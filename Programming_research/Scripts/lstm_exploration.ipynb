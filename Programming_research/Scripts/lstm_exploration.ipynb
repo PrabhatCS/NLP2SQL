{
 "cells": [
  {
   "cell_type": "markdown",
   "metadata": {},
   "source": [
    "# LSTM Exploration\n",
    "\n",
    "-------------------------------------------------------------------------------------------------------------------\n",
    "# Technology used: Tensorflow\n",
    "<br>\n",
    "### The purpose of this notebook is to experiment with the lstm package in tensorflow and try to understand the intricate subtleties of LSTM networks "
   ]
  },
  {
   "cell_type": "markdown",
   "metadata": {},
   "source": [
    "I start with the usual cells for utility purposes."
   ]
  },
  {
   "cell_type": "code",
   "execution_count": 1,
   "metadata": {
    "collapsed": true
   },
   "outputs": [],
   "source": [
    "# packages used for processing: \n",
    "import cPickle as pickle # for reading the data\n",
    "import matplotlib.pyplot as plt # for visualization\n",
    "import numpy as np\n",
    "\n",
    "# for operating system related stuff\n",
    "import os\n",
    "import sys # for memory usage of objects\n",
    "from subprocess import check_output\n",
    "\n",
    "# the boss of frameworks\n",
    "import tensorflow as tf\n",
    "\n",
    "# for dataset building:\n",
    "import collections\n",
    "\n",
    "# for regex based preprocessing\n",
    "import re\n",
    "\n",
    "# to plot the images inline\n",
    "%matplotlib inline"
   ]
  },
  {
   "cell_type": "code",
   "execution_count": 2,
   "metadata": {
    "collapsed": true
   },
   "outputs": [],
   "source": [
    "# Input data files are available in the \"../Data/\" directory.\n",
    "\n",
    "def exec_command(cmd):\n",
    "    '''\n",
    "        function to execute a shell command and see it's \n",
    "        output in the python console\n",
    "        @params\n",
    "        cmd = the command to be executed along with the arguments\n",
    "              ex: ['ls', '../input']\n",
    "    '''\n",
    "    print(check_output(cmd).decode(\"utf8\"))"
   ]
  },
  {
   "cell_type": "code",
   "execution_count": 3,
   "metadata": {},
   "outputs": [
    {
     "name": "stdout",
     "output_type": "stream",
     "text": [
      "Data\n",
      "Models\n",
      "Scripts\n",
      "\n"
     ]
    }
   ],
   "source": [
    "# check the structure of the project directory\n",
    "exec_command(['ls', '..'])"
   ]
  },
  {
   "cell_type": "code",
   "execution_count": 4,
   "metadata": {
    "collapsed": true
   },
   "outputs": [],
   "source": [
    "''' Set the constants for the script '''\n",
    "\n",
    "# various paths of the files\n",
    "data_path = \"../Data/WikiSQL/data\" # the data path\n",
    "\n",
    "train_files = {\n",
    "    \"questions\": os.path.join(data_path, \"train.jsonl\"),\n",
    "    \"tables\": os.path.join(data_path, \"train.tables.jsonl\")\n",
    "}\n",
    "\n",
    "base_model_path = '../Models'\n",
    "\n",
    "processed_data_file_path = os.path.join(data_path, \"processed.pickle\")\n",
    "plug_and_play_data_file_path = os.path.join(data_path, \"plug_and_play.pickle\")\n",
    "\n",
    "# constants:\n",
    "matcher_regex = r\"[\\w']+|[.,!?;\\\"]\"\n",
    "vocab_size = 55000 # total words in our vocabulary\n",
    "lstm_hidden_state_size = 128 # hidden state size\n",
    "input_seqs_length = 45\n",
    "output_seqs_length = 85\n",
    "no_of_epochs = 500000\n",
    "batch_size = 64 # we look at only 64 examples in a single batch            \n",
    "list_length = 8 # we send in 8 such batches at a time:\n",
    "checkpoint_factor = 5000 # save the model after every 5 epochs"
   ]
  },
  {
   "cell_type": "code",
   "execution_count": 5,
   "metadata": {},
   "outputs": [
    {
     "name": "stdout",
     "output_type": "stream",
     "text": [
      "dev.db\n",
      "dev.jsonl\n",
      "dev.tables.jsonl\n",
      "plug_and_play.pickle\n",
      "processed.pickle\n",
      "test.db\n",
      "test.jsonl\n",
      "test.tables.jsonl\n",
      "train.db\n",
      "train.jsonl\n",
      "train.tables.jsonl\n",
      "\n"
     ]
    }
   ],
   "source": [
    "# check the contents of the data path\n",
    "exec_command(['ls', data_path])"
   ]
  },
  {
   "cell_type": "code",
   "execution_count": 6,
   "metadata": {
    "collapsed": true
   },
   "outputs": [],
   "source": [
    "# create a function to unpickle the data into a python object\n",
    "def unpickle(pickle_file):\n",
    "    '''\n",
    "        function to unpickle the pickle file into a python compatible object\n",
    "        @param\n",
    "        pickle => the pickle file path\n",
    "        @return => the unpickled object\n",
    "    '''\n",
    "    with open(pickle_file) as dumper:\n",
    "        return pickle.load(dumper)"
   ]
  },
  {
   "cell_type": "code",
   "execution_count": null,
   "metadata": {
    "collapsed": true
   },
   "outputs": [],
   "source": []
  },
  {
   "cell_type": "code",
   "execution_count": null,
   "metadata": {
    "collapsed": true
   },
   "outputs": [],
   "source": []
  },
  {
   "cell_type": "code",
   "execution_count": 7,
   "metadata": {
    "collapsed": true
   },
   "outputs": [],
   "source": [
    "import numpy as np\n",
    "from random import shuffle\n",
    " \n",
    "train_input = ['{0:020b}'.format(i) for i in range(2**20)]\n",
    "shuffle(train_input)\n",
    "train_input = [map(int,i) for i in train_input]\n",
    "ti  = []\n",
    "for i in train_input:\n",
    "    temp_list = []\n",
    "    for j in i:\n",
    "            temp_list.append([j])\n",
    "    ti.append(np.array(temp_list))\n",
    "train_input = ti"
   ]
  },
  {
   "cell_type": "code",
   "execution_count": 8,
   "metadata": {},
   "outputs": [
    {
     "data": {
      "text/plain": [
       "(1048576, 20, 1)"
      ]
     },
     "execution_count": 8,
     "metadata": {},
     "output_type": "execute_result"
    }
   ],
   "source": [
    "np.array(train_input).shape"
   ]
  },
  {
   "cell_type": "code",
   "execution_count": 9,
   "metadata": {},
   "outputs": [
    {
     "data": {
      "text/plain": [
       "list"
      ]
     },
     "execution_count": 9,
     "metadata": {},
     "output_type": "execute_result"
    }
   ],
   "source": [
    "type(train_input)"
   ]
  },
  {
   "cell_type": "code",
   "execution_count": null,
   "metadata": {
    "collapsed": true
   },
   "outputs": [],
   "source": []
  },
  {
   "cell_type": "code",
   "execution_count": null,
   "metadata": {
    "collapsed": true
   },
   "outputs": [],
   "source": []
  },
  {
   "cell_type": "code",
   "execution_count": null,
   "metadata": {
    "collapsed": true
   },
   "outputs": [],
   "source": []
  },
  {
   "cell_type": "code",
   "execution_count": 10,
   "metadata": {
    "collapsed": true
   },
   "outputs": [],
   "source": [
    "\n",
    "train_output = []\n",
    " \n",
    "for i in train_input:\n",
    "    count = 0\n",
    "    for j in i:\n",
    "        if j[0] == 1:\n",
    "            count+=1\n",
    "    temp_list = ([0]*21)\n",
    "    temp_list[count]=1\n",
    "    train_output.append(temp_list)"
   ]
  },
  {
   "cell_type": "code",
   "execution_count": null,
   "metadata": {
    "collapsed": true
   },
   "outputs": [],
   "source": []
  },
  {
   "cell_type": "code",
   "execution_count": 11,
   "metadata": {},
   "outputs": [
    {
     "data": {
      "text/plain": [
       "(1048576, 21)"
      ]
     },
     "execution_count": 11,
     "metadata": {},
     "output_type": "execute_result"
    }
   ],
   "source": [
    "np.array(train_output).shape"
   ]
  },
  {
   "cell_type": "code",
   "execution_count": 12,
   "metadata": {},
   "outputs": [
    {
     "name": "stdout",
     "output_type": "stream",
     "text": [
      "[0, 0, 0, 0, 0, 0, 0, 0, 0, 0, 0, 0, 0, 0, 1, 0, 0, 0, 0, 0, 0]\n"
     ]
    }
   ],
   "source": [
    "print train_output[0]"
   ]
  },
  {
   "cell_type": "code",
   "execution_count": null,
   "metadata": {
    "collapsed": true
   },
   "outputs": [],
   "source": []
  },
  {
   "cell_type": "code",
   "execution_count": 13,
   "metadata": {
    "collapsed": true
   },
   "outputs": [],
   "source": [
    "NUM_EXAMPLES = 10000\n",
    "test_input = train_input[NUM_EXAMPLES:]\n",
    "test_output = train_output[NUM_EXAMPLES:] #everything beyond 10,000\n",
    " \n",
    "train_input = train_input[:NUM_EXAMPLES]\n",
    "train_output = train_output[:NUM_EXAMPLES] #till 10,000"
   ]
  },
  {
   "cell_type": "code",
   "execution_count": 14,
   "metadata": {},
   "outputs": [
    {
     "data": {
      "text/plain": [
       "(10000, 1038576)"
      ]
     },
     "execution_count": 14,
     "metadata": {},
     "output_type": "execute_result"
    }
   ],
   "source": [
    "len(train_input), len(test_input)"
   ]
  },
  {
   "cell_type": "code",
   "execution_count": null,
   "metadata": {
    "collapsed": true
   },
   "outputs": [],
   "source": []
  },
  {
   "cell_type": "code",
   "execution_count": null,
   "metadata": {
    "collapsed": true
   },
   "outputs": [],
   "source": []
  },
  {
   "cell_type": "code",
   "execution_count": 15,
   "metadata": {
    "collapsed": true
   },
   "outputs": [],
   "source": [
    "data = tf.placeholder(tf.float32, [None, 20,1])\n",
    "target = tf.placeholder(tf.float32, [None, 21])"
   ]
  },
  {
   "cell_type": "code",
   "execution_count": null,
   "metadata": {
    "collapsed": true
   },
   "outputs": [],
   "source": []
  },
  {
   "cell_type": "code",
   "execution_count": 16,
   "metadata": {
    "collapsed": true
   },
   "outputs": [],
   "source": [
    "num_hidden = 100\n",
    "cell = tf.nn.rnn_cell.LSTMCell(num_hidden, state_is_tuple=True)"
   ]
  },
  {
   "cell_type": "code",
   "execution_count": null,
   "metadata": {
    "collapsed": true
   },
   "outputs": [],
   "source": []
  },
  {
   "cell_type": "code",
   "execution_count": 17,
   "metadata": {
    "collapsed": true
   },
   "outputs": [],
   "source": [
    "val, state = tf.nn.dynamic_rnn(cell, data, dtype=tf.float32)"
   ]
  },
  {
   "cell_type": "code",
   "execution_count": null,
   "metadata": {
    "collapsed": true
   },
   "outputs": [],
   "source": []
  },
  {
   "cell_type": "code",
   "execution_count": 18,
   "metadata": {},
   "outputs": [
    {
     "data": {
      "text/plain": [
       "<tf.Tensor 'rnn/transpose:0' shape=(?, 20, 100) dtype=float32>"
      ]
     },
     "execution_count": 18,
     "metadata": {},
     "output_type": "execute_result"
    }
   ],
   "source": [
    "val"
   ]
  },
  {
   "cell_type": "code",
   "execution_count": null,
   "metadata": {
    "collapsed": true
   },
   "outputs": [],
   "source": []
  },
  {
   "cell_type": "code",
   "execution_count": 19,
   "metadata": {},
   "outputs": [
    {
     "data": {
      "text/plain": [
       "(TensorShape([Dimension(None), Dimension(100)]),\n",
       " TensorShape([Dimension(None), Dimension(100)]))"
      ]
     },
     "execution_count": 19,
     "metadata": {},
     "output_type": "execute_result"
    }
   ],
   "source": [
    "c = state[0]; h = state[1]\n",
    "c.shape, h.shape"
   ]
  },
  {
   "cell_type": "code",
   "execution_count": null,
   "metadata": {
    "collapsed": true
   },
   "outputs": [],
   "source": []
  },
  {
   "cell_type": "code",
   "execution_count": 20,
   "metadata": {
    "collapsed": true
   },
   "outputs": [],
   "source": [
    "# transpose the val tensor and carve out the last output as a slice\n",
    "val = tf.transpose(val, [1, 0, 2])\n",
    "last = val[val.shape[0] - 1, :, :]"
   ]
  },
  {
   "cell_type": "code",
   "execution_count": null,
   "metadata": {
    "collapsed": true
   },
   "outputs": [],
   "source": []
  },
  {
   "cell_type": "code",
   "execution_count": null,
   "metadata": {
    "collapsed": true
   },
   "outputs": [],
   "source": []
  },
  {
   "cell_type": "code",
   "execution_count": 21,
   "metadata": {},
   "outputs": [
    {
     "data": {
      "text/plain": [
       "TensorShape([Dimension(20), Dimension(None), Dimension(100)])"
      ]
     },
     "execution_count": 21,
     "metadata": {},
     "output_type": "execute_result"
    }
   ],
   "source": [
    "val.shape"
   ]
  },
  {
   "cell_type": "code",
   "execution_count": null,
   "metadata": {
    "collapsed": true
   },
   "outputs": [],
   "source": []
  },
  {
   "cell_type": "code",
   "execution_count": 22,
   "metadata": {},
   "outputs": [
    {
     "data": {
      "text/plain": [
       "TensorShape([Dimension(None), Dimension(100)])"
      ]
     },
     "execution_count": 22,
     "metadata": {},
     "output_type": "execute_result"
    }
   ],
   "source": [
    "last.shape"
   ]
  },
  {
   "cell_type": "code",
   "execution_count": null,
   "metadata": {
    "collapsed": true
   },
   "outputs": [],
   "source": []
  },
  {
   "cell_type": "code",
   "execution_count": null,
   "metadata": {
    "collapsed": true
   },
   "outputs": [],
   "source": []
  },
  {
   "cell_type": "code",
   "execution_count": 23,
   "metadata": {
    "collapsed": true
   },
   "outputs": [],
   "source": [
    "# define the weights and biases for projections\n",
    "weight = tf.Variable(tf.truncated_normal((num_hidden, int(target.shape[1]))))\n",
    "bias = tf.Variable(tf.constant(0.1, shape=[1, int(target.shape[1])]))"
   ]
  },
  {
   "cell_type": "code",
   "execution_count": 24,
   "metadata": {},
   "outputs": [
    {
     "data": {
      "text/plain": [
       "(<tf.Variable 'Variable:0' shape=(100, 21) dtype=float32_ref>,\n",
       " <tf.Variable 'Variable_1:0' shape=(1, 21) dtype=float32_ref>)"
      ]
     },
     "execution_count": 24,
     "metadata": {},
     "output_type": "execute_result"
    }
   ],
   "source": [
    "weight, bias"
   ]
  },
  {
   "cell_type": "code",
   "execution_count": null,
   "metadata": {
    "collapsed": true
   },
   "outputs": [],
   "source": []
  },
  {
   "cell_type": "code",
   "execution_count": 25,
   "metadata": {
    "collapsed": true
   },
   "outputs": [],
   "source": [
    "prediction = tf.nn.softmax(tf.matmul(last, weight) + bias)"
   ]
  },
  {
   "cell_type": "code",
   "execution_count": 26,
   "metadata": {},
   "outputs": [
    {
     "data": {
      "text/plain": [
       "(<tf.Tensor 'Softmax:0' shape=(?, 21) dtype=float32>,\n",
       " <tf.Tensor 'Placeholder_1:0' shape=(?, 21) dtype=float32>)"
      ]
     },
     "execution_count": 26,
     "metadata": {},
     "output_type": "execute_result"
    }
   ],
   "source": [
    "prediction, target"
   ]
  },
  {
   "cell_type": "code",
   "execution_count": null,
   "metadata": {
    "collapsed": true
   },
   "outputs": [],
   "source": []
  },
  {
   "cell_type": "code",
   "execution_count": null,
   "metadata": {
    "collapsed": true
   },
   "outputs": [],
   "source": []
  },
  {
   "cell_type": "code",
   "execution_count": null,
   "metadata": {
    "collapsed": true
   },
   "outputs": [],
   "source": []
  },
  {
   "cell_type": "code",
   "execution_count": 27,
   "metadata": {
    "collapsed": true
   },
   "outputs": [],
   "source": [
    "# define the loss function to be minimized\n",
    "cross_entropy = -tf.reduce_sum(target * tf.log(tf.clip_by_value(prediction,1e-10,1.0)))"
   ]
  },
  {
   "cell_type": "code",
   "execution_count": null,
   "metadata": {
    "collapsed": true
   },
   "outputs": [],
   "source": []
  },
  {
   "cell_type": "code",
   "execution_count": 28,
   "metadata": {
    "collapsed": true
   },
   "outputs": [],
   "source": [
    "# define the training step\n",
    "optimizer = tf.train.AdamOptimizer()\n",
    "train_step = optimizer.minimize(cross_entropy)"
   ]
  },
  {
   "cell_type": "code",
   "execution_count": null,
   "metadata": {
    "collapsed": true
   },
   "outputs": [],
   "source": []
  },
  {
   "cell_type": "code",
   "execution_count": null,
   "metadata": {
    "collapsed": true
   },
   "outputs": [],
   "source": []
  },
  {
   "cell_type": "code",
   "execution_count": null,
   "metadata": {
    "collapsed": true
   },
   "outputs": [],
   "source": []
  },
  {
   "cell_type": "code",
   "execution_count": 29,
   "metadata": {
    "collapsed": true
   },
   "outputs": [],
   "source": [
    "# error calculation on the test dataset\n",
    "mistakes = tf.not_equal(tf.argmax(target, 1), tf.argmax(prediction, 1))\n",
    "error = tf.reduce_mean(tf.cast(mistakes, tf.float32))"
   ]
  },
  {
   "cell_type": "code",
   "execution_count": null,
   "metadata": {
    "collapsed": true
   },
   "outputs": [],
   "source": []
  },
  {
   "cell_type": "code",
   "execution_count": null,
   "metadata": {
    "collapsed": true
   },
   "outputs": [],
   "source": []
  },
  {
   "cell_type": "code",
   "execution_count": 31,
   "metadata": {
    "collapsed": true
   },
   "outputs": [],
   "source": [
    "# create and initialize the session:\n",
    "init_op = tf.global_variables_initializer()\n",
    "sess = tf.InteractiveSession()\n",
    "sess.run(init_op)"
   ]
  },
  {
   "cell_type": "code",
   "execution_count": null,
   "metadata": {
    "collapsed": true
   },
   "outputs": [],
   "source": []
  },
  {
   "cell_type": "code",
   "execution_count": null,
   "metadata": {
    "collapsed": true
   },
   "outputs": [],
   "source": []
  },
  {
   "cell_type": "code",
   "execution_count": 36,
   "metadata": {
    "collapsed": true
   },
   "outputs": [],
   "source": [
    "# running the session:\n",
    "batch_size = 1000\n",
    "no_of_batches = int(len(train_input)/batch_size)\n",
    "epoch = 200\n"
   ]
  },
  {
   "cell_type": "code",
   "execution_count": 37,
   "metadata": {},
   "outputs": [
    {
     "data": {
      "text/plain": [
       "((10000, 20, 1), (10000, 21))"
      ]
     },
     "execution_count": 37,
     "metadata": {},
     "output_type": "execute_result"
    }
   ],
   "source": [
    "np.array(train_input).shape, np.array(train_output).shape"
   ]
  },
  {
   "cell_type": "code",
   "execution_count": 38,
   "metadata": {
    "collapsed": true
   },
   "outputs": [],
   "source": [
    "loss_plot = []"
   ]
  },
  {
   "cell_type": "code",
   "execution_count": 66,
   "metadata": {
    "scrolled": true
   },
   "outputs": [
    {
     "name": "stdout",
     "output_type": "stream",
     "text": [
      "Epoch -  0 Loss -  11.2553\n",
      "Epoch -  1 Loss -  11.1778\n",
      "Epoch -  2 Loss -  11.1007\n",
      "Epoch -  3 Loss -  11.0243\n",
      "Epoch -  4 Loss -  10.9483\n",
      "Epoch -  5 Loss -  10.8729\n",
      "Epoch -  6 Loss -  10.7981\n",
      "Epoch -  7 Loss -  10.7237\n",
      "Epoch -  8 Loss -  10.6499\n",
      "Epoch -  9 Loss -  10.5767\n",
      "Epoch -  10 Loss -  10.504\n",
      "Epoch -  11 Loss -  10.4317\n",
      "Epoch -  12 Loss -  10.3599\n",
      "Epoch -  13 Loss -  10.2885\n",
      "Epoch -  14 Loss -  10.2175\n",
      "Epoch -  15 Loss -  10.147\n",
      "Epoch -  16 Loss -  10.0769\n",
      "Epoch -  17 Loss -  10.0073\n",
      "Epoch -  18 Loss -  9.93825\n",
      "Epoch -  19 Loss -  9.86967\n",
      "Epoch -  20 Loss -  9.80163\n",
      "Epoch -  21 Loss -  9.73401\n",
      "Epoch -  22 Loss -  9.66679\n",
      "Epoch -  23 Loss -  9.5999\n",
      "Epoch -  24 Loss -  9.53342\n",
      "Epoch -  25 Loss -  9.46725\n",
      "Epoch -  26 Loss -  9.40146\n",
      "Epoch -  27 Loss -  9.33597\n",
      "Epoch -  28 Loss -  9.27088\n",
      "Epoch -  29 Loss -  9.20621\n",
      "Epoch -  30 Loss -  9.14194\n",
      "Epoch -  31 Loss -  9.07818\n",
      "Epoch -  32 Loss -  9.01483\n",
      "Epoch -  33 Loss -  8.95197\n",
      "Epoch -  34 Loss -  8.88953\n",
      "Epoch -  35 Loss -  8.82747\n",
      "Epoch -  36 Loss -  8.76574\n",
      "Epoch -  37 Loss -  8.70428\n",
      "Epoch -  38 Loss -  8.64305\n",
      "Epoch -  39 Loss -  8.582\n",
      "Epoch -  40 Loss -  8.52117\n",
      "Epoch -  41 Loss -  8.46058\n",
      "Epoch -  42 Loss -  8.40026\n",
      "Epoch -  43 Loss -  8.34034\n",
      "Epoch -  44 Loss -  8.28081\n",
      "Epoch -  45 Loss -  8.22177\n",
      "Epoch -  46 Loss -  8.16329\n",
      "Epoch -  47 Loss -  8.10536\n",
      "Epoch -  48 Loss -  8.04795\n",
      "Epoch -  49 Loss -  7.99111\n",
      "Epoch -  50 Loss -  7.93464\n",
      "Epoch -  51 Loss -  7.87837\n",
      "Epoch -  52 Loss -  7.82225\n",
      "Epoch -  53 Loss -  7.76621\n",
      "Epoch -  54 Loss -  7.71017\n",
      "Epoch -  55 Loss -  7.65402\n",
      "Epoch -  56 Loss -  7.59783\n",
      "Epoch -  57 Loss -  7.5417\n",
      "Epoch -  58 Loss -  7.48567\n",
      "Epoch -  59 Loss -  7.42994\n",
      "Epoch -  60 Loss -  7.37476\n",
      "Epoch -  61 Loss -  7.32031\n",
      "Epoch -  62 Loss -  7.26673\n",
      "Epoch -  63 Loss -  7.21413\n",
      "Epoch -  64 Loss -  7.16251\n",
      "Epoch -  65 Loss -  7.11187\n",
      "Epoch -  66 Loss -  7.0621\n",
      "Epoch -  67 Loss -  7.01296\n",
      "Epoch -  68 Loss -  6.96418\n",
      "Epoch -  69 Loss -  6.91551\n",
      "Epoch -  70 Loss -  6.8666\n",
      "Epoch -  71 Loss -  6.81712\n",
      "Epoch -  72 Loss -  6.76679\n",
      "Epoch -  73 Loss -  6.71558\n",
      "Epoch -  74 Loss -  6.6632\n",
      "Epoch -  75 Loss -  6.60995\n",
      "Epoch -  76 Loss -  6.5561\n",
      "Epoch -  77 Loss -  6.50212\n",
      "Epoch -  78 Loss -  6.44876\n",
      "Epoch -  79 Loss -  6.39669\n",
      "Epoch -  80 Loss -  6.34657\n",
      "Epoch -  81 Loss -  6.29895\n",
      "Epoch -  82 Loss -  6.25418\n",
      "Epoch -  83 Loss -  6.21241\n",
      "Epoch -  84 Loss -  6.17357\n",
      "Epoch -  85 Loss -  6.13753\n",
      "Epoch -  86 Loss -  6.10389\n",
      "Epoch -  87 Loss -  6.07233\n",
      "Epoch -  88 Loss -  6.04204\n",
      "Epoch -  89 Loss -  6.01236\n",
      "Epoch -  90 Loss -  5.98214\n",
      "Epoch -  91 Loss -  5.95014\n",
      "Epoch -  92 Loss -  5.91477\n",
      "Epoch -  93 Loss -  5.8743\n",
      "Epoch -  94 Loss -  5.82729\n",
      "Epoch -  95 Loss -  5.77243\n",
      "Epoch -  96 Loss -  5.70911\n",
      "Epoch -  97 Loss -  5.63749\n",
      "Epoch -  98 Loss -  5.55934\n",
      "Epoch -  99 Loss -  5.4799\n",
      "Epoch -  100 Loss -  5.4081\n",
      "Epoch -  101 Loss -  5.35088\n",
      "Epoch -  102 Loss -  5.3085\n",
      "Epoch -  103 Loss -  5.27867\n",
      "Epoch -  104 Loss -  5.25918\n",
      "Epoch -  105 Loss -  5.24764\n",
      "Epoch -  106 Loss -  5.24201\n",
      "Epoch -  107 Loss -  5.24203\n",
      "Epoch -  108 Loss -  5.24998\n",
      "Epoch -  109 Loss -  5.26787\n",
      "Epoch -  110 Loss -  5.29451\n",
      "Epoch -  111 Loss -  5.32563\n",
      "Epoch -  112 Loss -  5.35963\n",
      "Epoch -  113 Loss -  5.40093\n",
      "Epoch -  114 Loss -  5.46564\n",
      "Epoch -  115 Loss -  5.61156\n",
      "Epoch -  116 Loss -  6.1734\n",
      "Epoch -  117 Loss -  13557.4\n",
      "Epoch -  118 Loss -  4209.17\n",
      "Epoch -  119 Loss -  2711.13\n",
      "Epoch -  120 Loss -  2541.07\n",
      "Epoch -  121 Loss -  2418.28\n",
      "Epoch -  122 Loss -  2320.26\n",
      "Epoch -  123 Loss -  2252.82\n",
      "Epoch -  124 Loss -  2146.04\n",
      "Epoch -  125 Loss -  1985.15\n",
      "Epoch -  126 Loss -  1741.36\n",
      "Epoch -  127 Loss -  1727.1\n",
      "Epoch -  128 Loss -  1346.67\n",
      "Epoch -  129 Loss -  1194.73\n",
      "Epoch -  130 Loss -  1106.65\n",
      "Epoch -  131 Loss -  973.149\n",
      "Epoch -  132 Loss -  868.599\n",
      "Epoch -  133 Loss -  818.193\n",
      "Epoch -  134 Loss -  716.811\n",
      "Epoch -  135 Loss -  658.541\n",
      "Epoch -  136 Loss -  604.646\n",
      "Epoch -  137 Loss -  535.334\n",
      "Epoch -  138 Loss -  567.241\n",
      "Epoch -  139 Loss -  518.669\n",
      "Epoch -  140 Loss -  453.708\n",
      "Epoch -  141 Loss -  411.503\n",
      "Epoch -  142 Loss -  410.908\n",
      "Epoch -  143 Loss -  387.986\n",
      "Epoch -  144 Loss -  312.378\n",
      "Epoch -  145 Loss -  315.811\n",
      "Epoch -  146 Loss -  283.852\n",
      "Epoch -  147 Loss -  262.215\n",
      "Epoch -  148 Loss -  246.615\n",
      "Epoch -  149 Loss -  232.541\n",
      "Epoch -  150 Loss -  219.887\n",
      "Epoch -  151 Loss -  208.817\n",
      "Epoch -  152 Loss -  199.132\n",
      "Epoch -  153 Loss -  191.675\n",
      "Epoch -  154 Loss -  187.173\n",
      "Epoch -  155 Loss -  184.793\n",
      "Epoch -  156 Loss -  181.638\n",
      "Epoch -  157 Loss -  175.456\n",
      "Epoch -  158 Loss -  162.956\n",
      "Epoch -  159 Loss -  145.266\n",
      "Epoch -  160 Loss -  138.483\n",
      "Epoch -  161 Loss -  135.516\n",
      "Epoch -  162 Loss -  131.816\n",
      "Epoch -  163 Loss -  126.715\n",
      "Epoch -  164 Loss -  122.654\n",
      "Epoch -  165 Loss -  119.463\n",
      "Epoch -  166 Loss -  116.516\n",
      "Epoch -  167 Loss -  113.612\n",
      "Epoch -  168 Loss -  110.858\n",
      "Epoch -  169 Loss -  108.339\n",
      "Epoch -  170 Loss -  106.079\n",
      "Epoch -  171 Loss -  104.039\n",
      "Epoch -  172 Loss -  102.144\n",
      "Epoch -  173 Loss -  100.286\n",
      "Epoch -  174 Loss -  98.3103\n",
      "Epoch -  175 Loss -  96.0296\n",
      "Epoch -  176 Loss -  93.3427\n",
      "Epoch -  177 Loss -  90.4655\n",
      "Epoch -  178 Loss -  87.8871\n",
      "Epoch -  179 Loss -  85.8636\n",
      "Epoch -  180 Loss -  84.1423\n",
      "Epoch -  181 Loss -  82.5033\n",
      "Epoch -  182 Loss -  80.4754\n",
      "Epoch -  183 Loss -  78.8917\n",
      "Epoch -  184 Loss -  76.9369\n",
      "Epoch -  185 Loss -  76.789\n",
      "Epoch -  186 Loss -  74.6737\n",
      "Epoch -  187 Loss -  74.6733\n",
      "Epoch -  188 Loss -  71.8251\n",
      "Epoch -  189 Loss -  71.6502\n",
      "Epoch -  190 Loss -  68.9476\n",
      "Epoch -  191 Loss -  68.5509\n",
      "Epoch -  192 Loss -  66.6817\n",
      "Epoch -  193 Loss -  65.8707\n",
      "Epoch -  194 Loss -  64.5388\n",
      "Epoch -  195 Loss -  63.5233\n",
      "Epoch -  196 Loss -  62.4319\n",
      "Epoch -  197 Loss -  61.4228\n",
      "Epoch -  198 Loss -  60.4476\n",
      "Epoch -  199 Loss -  59.5001\n"
     ]
    }
   ],
   "source": [
    "for i in range(epoch):\n",
    "    ptr = 0\n",
    "    for j in range(no_of_batches):\n",
    "        inp, out = train_input[ptr:ptr+batch_size], train_output[ptr:ptr+batch_size]\n",
    "        ptr+=batch_size\n",
    "        _, loss = sess.run((train_step, cross_entropy), feed_dict={data: inp, target: out})\n",
    "    print \"Epoch - \", str(i), \"Loss - \", loss\n",
    "    loss_plot.append(loss)"
   ]
  },
  {
   "cell_type": "code",
   "execution_count": null,
   "metadata": {
    "collapsed": true
   },
   "outputs": [],
   "source": []
  },
  {
   "cell_type": "code",
   "execution_count": 60,
   "metadata": {},
   "outputs": [
    {
     "name": "stdout",
     "output_type": "stream",
     "text": [
      "error 200.0%\n"
     ]
    }
   ],
   "source": [
    "incorrect = sess.run(error,{data: test_input[:1000], target: test_output[:1000]})\n",
    "print('error {:3.1f}%'.format(i + 1, 100 * incorrect))"
   ]
  },
  {
   "cell_type": "code",
   "execution_count": null,
   "metadata": {
    "collapsed": true
   },
   "outputs": [],
   "source": []
  },
  {
   "cell_type": "code",
   "execution_count": 67,
   "metadata": {},
   "outputs": [],
   "source": [
    "state = h.eval(feed_dict={data: test_input[:2], target: test_output[:2]})"
   ]
  },
  {
   "cell_type": "code",
   "execution_count": 68,
   "metadata": {},
   "outputs": [
    {
     "data": {
      "text/plain": [
       "(2, 100)"
      ]
     },
     "execution_count": 68,
     "metadata": {},
     "output_type": "execute_result"
    }
   ],
   "source": [
    "state.shape"
   ]
  },
  {
   "cell_type": "code",
   "execution_count": 63,
   "metadata": {},
   "outputs": [],
   "source": [
    "out = val.eval(feed_dict={data: test_input[:1], target: test_output[:1]})"
   ]
  },
  {
   "cell_type": "code",
   "execution_count": 64,
   "metadata": {},
   "outputs": [],
   "source": [
    "lest = out[19]"
   ]
  },
  {
   "cell_type": "code",
   "execution_count": 65,
   "metadata": {},
   "outputs": [
    {
     "data": {
      "text/plain": [
       "(1, 100)"
      ]
     },
     "execution_count": 65,
     "metadata": {},
     "output_type": "execute_result"
    }
   ],
   "source": [
    "lest.shape"
   ]
  },
  {
   "cell_type": "code",
   "execution_count": null,
   "metadata": {
    "collapsed": true
   },
   "outputs": [],
   "source": []
  },
  {
   "cell_type": "code",
   "execution_count": null,
   "metadata": {
    "collapsed": true
   },
   "outputs": [],
   "source": []
  },
  {
   "cell_type": "code",
   "execution_count": 58,
   "metadata": {},
   "outputs": [
    {
     "data": {
      "text/plain": [
       "array([[  6.08171761e-01,  -8.43231618e-01,  -2.61537850e-01,\n",
       "         -8.70031893e-01,   3.23232532e-01,  -8.63342762e-01,\n",
       "         -6.83092475e-01,   5.76106124e-02,  -2.69228853e-02,\n",
       "          4.56251949e-01,   6.39560401e-01,  -5.44083714e-01,\n",
       "          4.32975024e-01,  -1.99097767e-02,  -1.63227916e-01,\n",
       "         -6.57440841e-01,   7.89873004e-01,  -4.85014290e-01,\n",
       "          5.26652753e-01,  -9.70201194e-01,   9.07053173e-01,\n",
       "         -7.56672323e-01,   3.65930170e-01,   8.61710496e-03,\n",
       "         -1.55350432e-01,   9.30902362e-01,   7.94562697e-01,\n",
       "         -6.50904417e-01,   9.37372625e-01,   7.20937625e-02,\n",
       "          1.50268003e-01,   1.14286486e-02,   5.46257317e-01,\n",
       "         -8.38700458e-02,  -5.87568693e-02,  -5.64977169e-01,\n",
       "         -3.62886667e-01,  -9.52773094e-01,   9.22005415e-01,\n",
       "         -9.20509875e-01,  -2.86670059e-01,   8.90155315e-01,\n",
       "          8.74028921e-01,  -1.28616452e-01,   6.53341472e-01,\n",
       "          9.86320078e-01,  -7.93899346e-07,  -9.22212005e-01,\n",
       "          6.89824641e-01,   6.20925963e-01,  -7.98927993e-03,\n",
       "         -7.15152860e-01,   7.84523010e-01,   4.96885449e-01,\n",
       "          6.43946648e-01,  -2.00958364e-02,  -7.16740191e-01,\n",
       "          1.87374726e-01,   7.31507123e-01,   9.46417302e-02,\n",
       "         -1.81979924e-01,   2.12212503e-02,   9.66398597e-01,\n",
       "         -8.28822196e-01,  -8.38196993e-01,  -8.95188332e-01,\n",
       "         -5.92623472e-01,  -9.84000564e-01,   1.02530224e-02,\n",
       "          6.41585410e-01,  -6.29545927e-01,   6.69478238e-01,\n",
       "         -3.21359187e-01,   9.51538503e-01,   1.73573688e-01,\n",
       "          9.92180228e-01,   7.85990477e-01,  -3.26159388e-01,\n",
       "          1.10525012e-01,  -6.73432767e-01,   7.31308877e-01,\n",
       "          4.68998076e-03,   9.19916332e-01,   1.10296803e-02,\n",
       "         -4.63530868e-01,  -1.60465032e-01,   2.22293258e-01,\n",
       "          5.36282539e-01,   5.87812290e-02,  -6.50642335e-01,\n",
       "         -1.67411208e-01,  -8.69448125e-01,  -9.12798643e-01,\n",
       "          7.52638102e-01,   1.89204216e-02,   8.64929259e-01,\n",
       "          6.07682159e-03,   9.51689422e-01,   3.72117370e-01,\n",
       "          2.56447285e-01]], dtype=float32)"
      ]
     },
     "execution_count": 58,
     "metadata": {},
     "output_type": "execute_result"
    }
   ],
   "source": [
    "lest"
   ]
  },
  {
   "cell_type": "code",
   "execution_count": null,
   "metadata": {
    "collapsed": true
   },
   "outputs": [],
   "source": []
  },
  {
   "cell_type": "code",
   "execution_count": 59,
   "metadata": {},
   "outputs": [
    {
     "data": {
      "text/plain": [
       "array([[  6.08171761e-01,  -8.43231618e-01,  -2.61537850e-01,\n",
       "         -8.70031893e-01,   3.23232532e-01,  -8.63342762e-01,\n",
       "         -6.83092475e-01,   5.76106124e-02,  -2.69228853e-02,\n",
       "          4.56251949e-01,   6.39560401e-01,  -5.44083714e-01,\n",
       "          4.32975024e-01,  -1.99097767e-02,  -1.63227916e-01,\n",
       "         -6.57440841e-01,   7.89873004e-01,  -4.85014290e-01,\n",
       "          5.26652753e-01,  -9.70201194e-01,   9.07053173e-01,\n",
       "         -7.56672323e-01,   3.65930170e-01,   8.61710496e-03,\n",
       "         -1.55350432e-01,   9.30902362e-01,   7.94562697e-01,\n",
       "         -6.50904417e-01,   9.37372625e-01,   7.20937625e-02,\n",
       "          1.50268003e-01,   1.14286486e-02,   5.46257317e-01,\n",
       "         -8.38700458e-02,  -5.87568693e-02,  -5.64977169e-01,\n",
       "         -3.62886667e-01,  -9.52773094e-01,   9.22005415e-01,\n",
       "         -9.20509875e-01,  -2.86670059e-01,   8.90155315e-01,\n",
       "          8.74028921e-01,  -1.28616452e-01,   6.53341472e-01,\n",
       "          9.86320078e-01,  -7.93899346e-07,  -9.22212005e-01,\n",
       "          6.89824641e-01,   6.20925963e-01,  -7.98927993e-03,\n",
       "         -7.15152860e-01,   7.84523010e-01,   4.96885449e-01,\n",
       "          6.43946648e-01,  -2.00958364e-02,  -7.16740191e-01,\n",
       "          1.87374726e-01,   7.31507123e-01,   9.46417302e-02,\n",
       "         -1.81979924e-01,   2.12212503e-02,   9.66398597e-01,\n",
       "         -8.28822196e-01,  -8.38196993e-01,  -8.95188332e-01,\n",
       "         -5.92623472e-01,  -9.84000564e-01,   1.02530224e-02,\n",
       "          6.41585410e-01,  -6.29545927e-01,   6.69478238e-01,\n",
       "         -3.21359187e-01,   9.51538503e-01,   1.73573688e-01,\n",
       "          9.92180228e-01,   7.85990477e-01,  -3.26159388e-01,\n",
       "          1.10525012e-01,  -6.73432767e-01,   7.31308877e-01,\n",
       "          4.68998076e-03,   9.19916332e-01,   1.10296803e-02,\n",
       "         -4.63530868e-01,  -1.60465032e-01,   2.22293258e-01,\n",
       "          5.36282539e-01,   5.87812290e-02,  -6.50642335e-01,\n",
       "         -1.67411208e-01,  -8.69448125e-01,  -9.12798643e-01,\n",
       "          7.52638102e-01,   1.89204216e-02,   8.64929259e-01,\n",
       "          6.07682159e-03,   9.51689422e-01,   3.72117370e-01,\n",
       "          2.56447285e-01]], dtype=float32)"
      ]
     },
     "execution_count": 59,
     "metadata": {},
     "output_type": "execute_result"
    }
   ],
   "source": [
    "state"
   ]
  },
  {
   "cell_type": "code",
   "execution_count": null,
   "metadata": {
    "collapsed": true
   },
   "outputs": [],
   "source": []
  },
  {
   "cell_type": "code",
   "execution_count": 57,
   "metadata": {},
   "outputs": [
    {
     "data": {
      "text/plain": [
       "array([[ True,  True,  True,  True,  True,  True,  True,  True,  True,\n",
       "         True,  True,  True,  True,  True,  True,  True,  True,  True,\n",
       "         True,  True,  True,  True,  True,  True,  True,  True,  True,\n",
       "         True,  True,  True,  True,  True,  True,  True,  True,  True,\n",
       "         True,  True,  True,  True,  True,  True,  True,  True,  True,\n",
       "         True,  True,  True,  True,  True,  True,  True,  True,  True,\n",
       "         True,  True,  True,  True,  True,  True,  True,  True,  True,\n",
       "         True,  True,  True,  True,  True,  True,  True,  True,  True,\n",
       "         True,  True,  True,  True,  True,  True,  True,  True,  True,\n",
       "         True,  True,  True,  True,  True,  True,  True,  True,  True,\n",
       "         True,  True,  True,  True,  True,  True,  True,  True,  True,\n",
       "         True]], dtype=bool)"
      ]
     },
     "execution_count": 57,
     "metadata": {},
     "output_type": "execute_result"
    }
   ],
   "source": [
    "state == lest"
   ]
  },
  {
   "cell_type": "code",
   "execution_count": null,
   "metadata": {
    "collapsed": true
   },
   "outputs": [],
   "source": []
  },
  {
   "cell_type": "code",
   "execution_count": null,
   "metadata": {
    "collapsed": true
   },
   "outputs": [],
   "source": []
  },
  {
   "cell_type": "code",
   "execution_count": null,
   "metadata": {
    "collapsed": true
   },
   "outputs": [],
   "source": []
  },
  {
   "cell_type": "code",
   "execution_count": null,
   "metadata": {
    "collapsed": true
   },
   "outputs": [],
   "source": [
    "# close the session and let it rest.\n",
    "sess.close()"
   ]
  }
 ],
 "metadata": {
  "kernelspec": {
   "display_name": "Python 2",
   "language": "python",
   "name": "python2"
  },
  "language_info": {
   "codemirror_mode": {
    "name": "ipython",
    "version": 2
   },
   "file_extension": ".py",
   "mimetype": "text/x-python",
   "name": "python",
   "nbconvert_exporter": "python",
   "pygments_lexer": "ipython2",
   "version": "2.7.13"
  }
 },
 "nbformat": 4,
 "nbformat_minor": 2
}
