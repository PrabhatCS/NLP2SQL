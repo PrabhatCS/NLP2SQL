{
 "cells": [
  {
   "cell_type": "markdown",
   "metadata": {},
   "source": [
    "# Creating Seq2Seq model using the unit dynamic_rnn layers and LSTM cells\n",
    "\n",
    "---------------------------------------------------------------------------------------------------\n",
    "# Technology used: Tensorflow"
   ]
  },
  {
   "cell_type": "code",
   "execution_count": 1,
   "metadata": {
    "collapsed": true
   },
   "outputs": [],
   "source": [
    "# bring in the big daddy of machine learning and deep learning\n",
    "import tensorflow as tf\n",
    "\n",
    "# The usual suspects:\n",
    "import cPickle as pickle # for reading the data\n",
    "import matplotlib.pyplot as plt # for visualization\n",
    "import numpy as np\n",
    "\n",
    "# to plot the images inline\n",
    "%matplotlib inline\n",
    "\n",
    "# # for operating system related stuff\n",
    "import os\n",
    "import sys # for memory usage of objects\n",
    "from subprocess import check_output"
   ]
  },
  {
   "cell_type": "code",
   "execution_count": 2,
   "metadata": {
    "collapsed": true
   },
   "outputs": [],
   "source": [
    "# Input data files are available in the \"../Data/\" directory.\n",
    "\n",
    "def exec_command(cmd):\n",
    "    '''\n",
    "        function to execute a shell command and see it's \n",
    "        output in the python console\n",
    "        @params\n",
    "        cmd = the command to be executed along with the arguments\n",
    "              ex: ['ls', '../input']\n",
    "    '''\n",
    "    print(check_output(cmd).decode(\"utf8\"))"
   ]
  },
  {
   "cell_type": "code",
   "execution_count": 3,
   "metadata": {},
   "outputs": [
    {
     "name": "stdout",
     "output_type": "stream",
     "text": [
      "Data\n",
      "Models\n",
      "Scripts\n",
      "\n"
     ]
    }
   ],
   "source": [
    "# check the structure of the project directory\n",
    "exec_command(['ls', '..'])"
   ]
  },
  {
   "cell_type": "code",
   "execution_count": 4,
   "metadata": {
    "collapsed": true
   },
   "outputs": [],
   "source": [
    "''' Set the constants for the script '''\n",
    "\n",
    "# various paths of the files\n",
    "data_path = \"../Data/WikiSQL/data\" # the data path\n",
    "\n",
    "train_files = {\n",
    "    \"questions\": os.path.join(data_path, \"train.jsonl\"),\n",
    "    \"tables\": os.path.join(data_path, \"train.tables.jsonl\")\n",
    "}\n",
    "\n",
    "base_model_path = '../Models'\n",
    "\n",
    "processed_data_file_path = os.path.join(data_path, \"processed.pickle\")\n",
    "plug_and_play_data_file_path = os.path.join(data_path, \"plug_and_play.pickle\")\n",
    "\n",
    "# constants:\n",
    "seqs_length = 85\n",
    "hidden_state_size = 128\n",
    "embedding_size = 256\n",
    "batch_size = 64\n",
    "no_of_epochs = 1000\n",
    "checkpoint_factor = 10"
   ]
  },
  {
   "cell_type": "code",
   "execution_count": 5,
   "metadata": {},
   "outputs": [
    {
     "name": "stdout",
     "output_type": "stream",
     "text": [
      "dev.db\n",
      "dev.jsonl\n",
      "dev.tables.jsonl\n",
      "plug_and_play.pickle\n",
      "processed.pickle\n",
      "test.db\n",
      "test.jsonl\n",
      "test.tables.jsonl\n",
      "train.db\n",
      "train.jsonl\n",
      "train.tables.jsonl\n",
      "\n"
     ]
    }
   ],
   "source": [
    "# check the contents of the data path\n",
    "exec_command(['ls', data_path])"
   ]
  },
  {
   "cell_type": "code",
   "execution_count": 6,
   "metadata": {
    "collapsed": true
   },
   "outputs": [],
   "source": [
    "# create a function to unpickle the data into a python object\n",
    "def unpickle(pickle_file):\n",
    "    '''\n",
    "        function to unpickle the pickle file into a python compatible object\n",
    "        @param\n",
    "        pickle => the pickle file path\n",
    "        @return => the unpickled object\n",
    "    '''\n",
    "    with open(pickle_file) as dumper:\n",
    "        return pickle.load(dumper)"
   ]
  },
  {
   "cell_type": "markdown",
   "metadata": {},
   "source": [
    "## Let's start by unpickling the plug and play file."
   ]
  },
  {
   "cell_type": "code",
   "execution_count": 7,
   "metadata": {
    "collapsed": true
   },
   "outputs": [],
   "source": [
    "data = unpickle(plug_and_play_data_file_path)"
   ]
  },
  {
   "cell_type": "code",
   "execution_count": 8,
   "metadata": {
    "collapsed": true
   },
   "outputs": [],
   "source": [
    "# unroll the elements from the packed data\n",
    "dictionary = data[\"dictionary\"]\n",
    "reverse_dictionary = data[\"reverse_dictionary\"]\n",
    "dquestions = data[\"questions\"]\n",
    "dqueries = data[\"queries\"]"
   ]
  },
  {
   "cell_type": "code",
   "execution_count": 9,
   "metadata": {},
   "outputs": [
    {
     "data": {
      "text/plain": [
       "((61297, 85), (61297, 85))"
      ]
     },
     "execution_count": 9,
     "metadata": {},
     "output_type": "execute_result"
    }
   ],
   "source": [
    "np.array(dquestions).shape, np.array(dqueries).shape"
   ]
  },
  {
   "cell_type": "code",
   "execution_count": 17,
   "metadata": {
    "collapsed": true
   },
   "outputs": [],
   "source": [
    "# create placeholders for encoder inputs and outputs:\n",
    "tf.reset_default_graph()\n",
    "\n",
    "encoder_input = [tf.placeholder(tf.int32, shape=(seqs_length), name=\"Input_sequence\") for _ in range(batch_size)]\n",
    "decoder_input = [tf.placeholder(tf.int32, shape=(seqs_length), name=\"Target_sequence\") for _ in range(batch_size)]\n",
    "\n",
    "decoder_input_tensor = tf.cast(tf.stack(decoder_input), tf.float32)"
   ]
  },
  {
   "cell_type": "code",
   "execution_count": 18,
   "metadata": {
    "collapsed": true
   },
   "outputs": [],
   "source": [
    "proj_weights = tf.Variable(tf.truncated_normal(shape=(3, len(dictionary))))\n",
    "proj_biases = tf.Variable(tf.zeros(shape=(len(dictionary))))"
   ]
  },
  {
   "cell_type": "code",
   "execution_count": 19,
   "metadata": {},
   "outputs": [
    {
     "ename": "ValueError",
     "evalue": "Dimensions must be equal, but are 128 and 3 for 'embedding_rnn_seq2seq/embedding_rnn_decoder/rnn_decoder/loop_function/xw_plus_b/MatMul' (op: 'MatMul') with input shapes: [85,128], [3,55003].",
     "output_type": "error",
     "traceback": [
      "\u001b[0;31m---------------------------------------------------------------------------\u001b[0m",
      "\u001b[0;31mValueError\u001b[0m                                Traceback (most recent call last)",
      "\u001b[0;32m<ipython-input-19-d0ad23073c51>\u001b[0m in \u001b[0;36m<module>\u001b[0;34m()\u001b[0m\n\u001b[1;32m     11\u001b[0m         \u001b[0membedding_size\u001b[0m\u001b[0;34m,\u001b[0m\u001b[0;34m\u001b[0m\u001b[0m\n\u001b[1;32m     12\u001b[0m         \u001b[0moutput_projection\u001b[0m \u001b[0;34m=\u001b[0m \u001b[0;34m(\u001b[0m\u001b[0mproj_weights\u001b[0m\u001b[0;34m,\u001b[0m \u001b[0mproj_biases\u001b[0m\u001b[0;34m)\u001b[0m\u001b[0;34m,\u001b[0m\u001b[0;34m\u001b[0m\u001b[0m\n\u001b[0;32m---> 13\u001b[0;31m         \u001b[0mfeed_previous\u001b[0m \u001b[0;34m=\u001b[0m \u001b[0mTrue\u001b[0m\u001b[0;34m\u001b[0m\u001b[0m\n\u001b[0m\u001b[1;32m     14\u001b[0m       )\n",
      "\u001b[0;32m/home/animesh/Programming/platforms/anaconda3/envs/snakes/lib/python2.7/site-packages/tensorflow/contrib/legacy_seq2seq/python/ops/seq2seq.pyc\u001b[0m in \u001b[0;36membedding_rnn_seq2seq\u001b[0;34m(encoder_inputs, decoder_inputs, cell, num_encoder_symbols, num_decoder_symbols, embedding_size, output_projection, feed_previous, dtype, scope)\u001b[0m\n\u001b[1;32m    375\u001b[0m           \u001b[0membedding_size\u001b[0m\u001b[0;34m,\u001b[0m\u001b[0;34m\u001b[0m\u001b[0m\n\u001b[1;32m    376\u001b[0m           \u001b[0moutput_projection\u001b[0m\u001b[0;34m=\u001b[0m\u001b[0moutput_projection\u001b[0m\u001b[0;34m,\u001b[0m\u001b[0;34m\u001b[0m\u001b[0m\n\u001b[0;32m--> 377\u001b[0;31m           feed_previous=feed_previous)\n\u001b[0m\u001b[1;32m    378\u001b[0m \u001b[0;34m\u001b[0m\u001b[0m\n\u001b[1;32m    379\u001b[0m     \u001b[0;31m# If feed_previous is a Tensor, we construct 2 graphs and use cond.\u001b[0m\u001b[0;34m\u001b[0m\u001b[0;34m\u001b[0m\u001b[0m\n",
      "\u001b[0;32m/home/animesh/Programming/platforms/anaconda3/envs/snakes/lib/python2.7/site-packages/tensorflow/contrib/legacy_seq2seq/python/ops/seq2seq.pyc\u001b[0m in \u001b[0;36membedding_rnn_decoder\u001b[0;34m(decoder_inputs, initial_state, cell, num_symbols, embedding_size, output_projection, feed_previous, update_embedding_for_previous, scope)\u001b[0m\n\u001b[1;32m    296\u001b[0m                for i in decoder_inputs)\n\u001b[1;32m    297\u001b[0m     return rnn_decoder(\n\u001b[0;32m--> 298\u001b[0;31m         emb_inp, initial_state, cell, loop_function=loop_function)\n\u001b[0m\u001b[1;32m    299\u001b[0m \u001b[0;34m\u001b[0m\u001b[0m\n\u001b[1;32m    300\u001b[0m \u001b[0;34m\u001b[0m\u001b[0m\n",
      "\u001b[0;32m/home/animesh/Programming/platforms/anaconda3/envs/snakes/lib/python2.7/site-packages/tensorflow/contrib/legacy_seq2seq/python/ops/seq2seq.pyc\u001b[0m in \u001b[0;36mrnn_decoder\u001b[0;34m(decoder_inputs, initial_state, cell, loop_function, scope)\u001b[0m\n\u001b[1;32m    147\u001b[0m       \u001b[0;32mif\u001b[0m \u001b[0mloop_function\u001b[0m \u001b[0;32mis\u001b[0m \u001b[0;32mnot\u001b[0m \u001b[0mNone\u001b[0m \u001b[0;32mand\u001b[0m \u001b[0mprev\u001b[0m \u001b[0;32mis\u001b[0m \u001b[0;32mnot\u001b[0m \u001b[0mNone\u001b[0m\u001b[0;34m:\u001b[0m\u001b[0;34m\u001b[0m\u001b[0m\n\u001b[1;32m    148\u001b[0m         \u001b[0;32mwith\u001b[0m \u001b[0mvariable_scope\u001b[0m\u001b[0;34m.\u001b[0m\u001b[0mvariable_scope\u001b[0m\u001b[0;34m(\u001b[0m\u001b[0;34m\"loop_function\"\u001b[0m\u001b[0;34m,\u001b[0m \u001b[0mreuse\u001b[0m\u001b[0;34m=\u001b[0m\u001b[0mTrue\u001b[0m\u001b[0;34m)\u001b[0m\u001b[0;34m:\u001b[0m\u001b[0;34m\u001b[0m\u001b[0m\n\u001b[0;32m--> 149\u001b[0;31m           \u001b[0minp\u001b[0m \u001b[0;34m=\u001b[0m \u001b[0mloop_function\u001b[0m\u001b[0;34m(\u001b[0m\u001b[0mprev\u001b[0m\u001b[0;34m,\u001b[0m \u001b[0mi\u001b[0m\u001b[0;34m)\u001b[0m\u001b[0;34m\u001b[0m\u001b[0m\n\u001b[0m\u001b[1;32m    150\u001b[0m       \u001b[0;32mif\u001b[0m \u001b[0mi\u001b[0m \u001b[0;34m>\u001b[0m \u001b[0;36m0\u001b[0m\u001b[0;34m:\u001b[0m\u001b[0;34m\u001b[0m\u001b[0m\n\u001b[1;32m    151\u001b[0m         \u001b[0mvariable_scope\u001b[0m\u001b[0;34m.\u001b[0m\u001b[0mget_variable_scope\u001b[0m\u001b[0;34m(\u001b[0m\u001b[0;34m)\u001b[0m\u001b[0;34m.\u001b[0m\u001b[0mreuse_variables\u001b[0m\u001b[0;34m(\u001b[0m\u001b[0;34m)\u001b[0m\u001b[0;34m\u001b[0m\u001b[0m\n",
      "\u001b[0;32m/home/animesh/Programming/platforms/anaconda3/envs/snakes/lib/python2.7/site-packages/tensorflow/contrib/legacy_seq2seq/python/ops/seq2seq.pyc\u001b[0m in \u001b[0;36mloop_function\u001b[0;34m(prev, _)\u001b[0m\n\u001b[1;32m     98\u001b[0m   \u001b[0;32mdef\u001b[0m \u001b[0mloop_function\u001b[0m\u001b[0;34m(\u001b[0m\u001b[0mprev\u001b[0m\u001b[0;34m,\u001b[0m \u001b[0m_\u001b[0m\u001b[0;34m)\u001b[0m\u001b[0;34m:\u001b[0m\u001b[0;34m\u001b[0m\u001b[0m\n\u001b[1;32m     99\u001b[0m     \u001b[0;32mif\u001b[0m \u001b[0moutput_projection\u001b[0m \u001b[0;32mis\u001b[0m \u001b[0;32mnot\u001b[0m \u001b[0mNone\u001b[0m\u001b[0;34m:\u001b[0m\u001b[0;34m\u001b[0m\u001b[0m\n\u001b[0;32m--> 100\u001b[0;31m       \u001b[0mprev\u001b[0m \u001b[0;34m=\u001b[0m \u001b[0mnn_ops\u001b[0m\u001b[0;34m.\u001b[0m\u001b[0mxw_plus_b\u001b[0m\u001b[0;34m(\u001b[0m\u001b[0mprev\u001b[0m\u001b[0;34m,\u001b[0m \u001b[0moutput_projection\u001b[0m\u001b[0;34m[\u001b[0m\u001b[0;36m0\u001b[0m\u001b[0;34m]\u001b[0m\u001b[0;34m,\u001b[0m \u001b[0moutput_projection\u001b[0m\u001b[0;34m[\u001b[0m\u001b[0;36m1\u001b[0m\u001b[0;34m]\u001b[0m\u001b[0;34m)\u001b[0m\u001b[0;34m\u001b[0m\u001b[0m\n\u001b[0m\u001b[1;32m    101\u001b[0m     \u001b[0mprev_symbol\u001b[0m \u001b[0;34m=\u001b[0m \u001b[0mmath_ops\u001b[0m\u001b[0;34m.\u001b[0m\u001b[0margmax\u001b[0m\u001b[0;34m(\u001b[0m\u001b[0mprev\u001b[0m\u001b[0;34m,\u001b[0m \u001b[0;36m1\u001b[0m\u001b[0;34m)\u001b[0m\u001b[0;34m\u001b[0m\u001b[0m\n\u001b[1;32m    102\u001b[0m     \u001b[0;31m# Note that gradients will not propagate through the second parameter of\u001b[0m\u001b[0;34m\u001b[0m\u001b[0;34m\u001b[0m\u001b[0m\n",
      "\u001b[0;32m/home/animesh/Programming/platforms/anaconda3/envs/snakes/lib/python2.7/site-packages/tensorflow/python/ops/nn_ops.pyc\u001b[0m in \u001b[0;36mxw_plus_b\u001b[0;34m(x, weights, biases, name)\u001b[0m\n\u001b[1;32m   1834\u001b[0m     \u001b[0mweights\u001b[0m \u001b[0;34m=\u001b[0m \u001b[0mops\u001b[0m\u001b[0;34m.\u001b[0m\u001b[0mconvert_to_tensor\u001b[0m\u001b[0;34m(\u001b[0m\u001b[0mweights\u001b[0m\u001b[0;34m,\u001b[0m \u001b[0mname\u001b[0m\u001b[0;34m=\u001b[0m\u001b[0;34m\"weights\"\u001b[0m\u001b[0;34m)\u001b[0m\u001b[0;34m\u001b[0m\u001b[0m\n\u001b[1;32m   1835\u001b[0m     \u001b[0mbiases\u001b[0m \u001b[0;34m=\u001b[0m \u001b[0mops\u001b[0m\u001b[0;34m.\u001b[0m\u001b[0mconvert_to_tensor\u001b[0m\u001b[0;34m(\u001b[0m\u001b[0mbiases\u001b[0m\u001b[0;34m,\u001b[0m \u001b[0mname\u001b[0m\u001b[0;34m=\u001b[0m\u001b[0;34m\"biases\"\u001b[0m\u001b[0;34m)\u001b[0m\u001b[0;34m\u001b[0m\u001b[0m\n\u001b[0;32m-> 1836\u001b[0;31m     \u001b[0mmm\u001b[0m \u001b[0;34m=\u001b[0m \u001b[0mmath_ops\u001b[0m\u001b[0;34m.\u001b[0m\u001b[0mmatmul\u001b[0m\u001b[0;34m(\u001b[0m\u001b[0mx\u001b[0m\u001b[0;34m,\u001b[0m \u001b[0mweights\u001b[0m\u001b[0;34m)\u001b[0m\u001b[0;34m\u001b[0m\u001b[0m\n\u001b[0m\u001b[1;32m   1837\u001b[0m     \u001b[0;32mreturn\u001b[0m \u001b[0mbias_add\u001b[0m\u001b[0;34m(\u001b[0m\u001b[0mmm\u001b[0m\u001b[0;34m,\u001b[0m \u001b[0mbiases\u001b[0m\u001b[0;34m,\u001b[0m \u001b[0mname\u001b[0m\u001b[0;34m=\u001b[0m\u001b[0mname\u001b[0m\u001b[0;34m)\u001b[0m\u001b[0;34m\u001b[0m\u001b[0m\n\u001b[1;32m   1838\u001b[0m \u001b[0;34m\u001b[0m\u001b[0m\n",
      "\u001b[0;32m/home/animesh/Programming/platforms/anaconda3/envs/snakes/lib/python2.7/site-packages/tensorflow/python/ops/math_ops.pyc\u001b[0m in \u001b[0;36mmatmul\u001b[0;34m(a, b, transpose_a, transpose_b, adjoint_a, adjoint_b, a_is_sparse, b_is_sparse, name)\u001b[0m\n\u001b[1;32m   1842\u001b[0m     \u001b[0;32melse\u001b[0m\u001b[0;34m:\u001b[0m\u001b[0;34m\u001b[0m\u001b[0m\n\u001b[1;32m   1843\u001b[0m       return gen_math_ops._mat_mul(\n\u001b[0;32m-> 1844\u001b[0;31m           a, b, transpose_a=transpose_a, transpose_b=transpose_b, name=name)\n\u001b[0m\u001b[1;32m   1845\u001b[0m \u001b[0;34m\u001b[0m\u001b[0m\n\u001b[1;32m   1846\u001b[0m \u001b[0;34m\u001b[0m\u001b[0m\n",
      "\u001b[0;32m/home/animesh/Programming/platforms/anaconda3/envs/snakes/lib/python2.7/site-packages/tensorflow/python/ops/gen_math_ops.pyc\u001b[0m in \u001b[0;36m_mat_mul\u001b[0;34m(a, b, transpose_a, transpose_b, name)\u001b[0m\n\u001b[1;32m   1287\u001b[0m   \"\"\"\n\u001b[1;32m   1288\u001b[0m   result = _op_def_lib.apply_op(\"MatMul\", a=a, b=b, transpose_a=transpose_a,\n\u001b[0;32m-> 1289\u001b[0;31m                                 transpose_b=transpose_b, name=name)\n\u001b[0m\u001b[1;32m   1290\u001b[0m   \u001b[0;32mreturn\u001b[0m \u001b[0mresult\u001b[0m\u001b[0;34m\u001b[0m\u001b[0m\n\u001b[1;32m   1291\u001b[0m \u001b[0;34m\u001b[0m\u001b[0m\n",
      "\u001b[0;32m/home/animesh/Programming/platforms/anaconda3/envs/snakes/lib/python2.7/site-packages/tensorflow/python/framework/op_def_library.pyc\u001b[0m in \u001b[0;36mapply_op\u001b[0;34m(self, op_type_name, name, **keywords)\u001b[0m\n\u001b[1;32m    765\u001b[0m         op = g.create_op(op_type_name, inputs, output_types, name=scope,\n\u001b[1;32m    766\u001b[0m                          \u001b[0minput_types\u001b[0m\u001b[0;34m=\u001b[0m\u001b[0minput_types\u001b[0m\u001b[0;34m,\u001b[0m \u001b[0mattrs\u001b[0m\u001b[0;34m=\u001b[0m\u001b[0mattr_protos\u001b[0m\u001b[0;34m,\u001b[0m\u001b[0;34m\u001b[0m\u001b[0m\n\u001b[0;32m--> 767\u001b[0;31m                          op_def=op_def)\n\u001b[0m\u001b[1;32m    768\u001b[0m         \u001b[0;32mif\u001b[0m \u001b[0moutput_structure\u001b[0m\u001b[0;34m:\u001b[0m\u001b[0;34m\u001b[0m\u001b[0m\n\u001b[1;32m    769\u001b[0m           \u001b[0moutputs\u001b[0m \u001b[0;34m=\u001b[0m \u001b[0mop\u001b[0m\u001b[0;34m.\u001b[0m\u001b[0moutputs\u001b[0m\u001b[0;34m\u001b[0m\u001b[0m\n",
      "\u001b[0;32m/home/animesh/Programming/platforms/anaconda3/envs/snakes/lib/python2.7/site-packages/tensorflow/python/framework/ops.pyc\u001b[0m in \u001b[0;36mcreate_op\u001b[0;34m(self, op_type, inputs, dtypes, input_types, name, attrs, op_def, compute_shapes, compute_device)\u001b[0m\n\u001b[1;32m   2630\u001b[0m                     original_op=self._default_original_op, op_def=op_def)\n\u001b[1;32m   2631\u001b[0m     \u001b[0;32mif\u001b[0m \u001b[0mcompute_shapes\u001b[0m\u001b[0;34m:\u001b[0m\u001b[0;34m\u001b[0m\u001b[0m\n\u001b[0;32m-> 2632\u001b[0;31m       \u001b[0mset_shapes_for_outputs\u001b[0m\u001b[0;34m(\u001b[0m\u001b[0mret\u001b[0m\u001b[0;34m)\u001b[0m\u001b[0;34m\u001b[0m\u001b[0m\n\u001b[0m\u001b[1;32m   2633\u001b[0m     \u001b[0mself\u001b[0m\u001b[0;34m.\u001b[0m\u001b[0m_add_op\u001b[0m\u001b[0;34m(\u001b[0m\u001b[0mret\u001b[0m\u001b[0;34m)\u001b[0m\u001b[0;34m\u001b[0m\u001b[0m\n\u001b[1;32m   2634\u001b[0m     \u001b[0mself\u001b[0m\u001b[0;34m.\u001b[0m\u001b[0m_record_op_seen_by_control_dependencies\u001b[0m\u001b[0;34m(\u001b[0m\u001b[0mret\u001b[0m\u001b[0;34m)\u001b[0m\u001b[0;34m\u001b[0m\u001b[0m\n",
      "\u001b[0;32m/home/animesh/Programming/platforms/anaconda3/envs/snakes/lib/python2.7/site-packages/tensorflow/python/framework/ops.pyc\u001b[0m in \u001b[0;36mset_shapes_for_outputs\u001b[0;34m(op)\u001b[0m\n\u001b[1;32m   1909\u001b[0m       \u001b[0mshape_func\u001b[0m \u001b[0;34m=\u001b[0m \u001b[0m_call_cpp_shape_fn_and_require_op\u001b[0m\u001b[0;34m\u001b[0m\u001b[0m\n\u001b[1;32m   1910\u001b[0m \u001b[0;34m\u001b[0m\u001b[0m\n\u001b[0;32m-> 1911\u001b[0;31m   \u001b[0mshapes\u001b[0m \u001b[0;34m=\u001b[0m \u001b[0mshape_func\u001b[0m\u001b[0;34m(\u001b[0m\u001b[0mop\u001b[0m\u001b[0;34m)\u001b[0m\u001b[0;34m\u001b[0m\u001b[0m\n\u001b[0m\u001b[1;32m   1912\u001b[0m   \u001b[0;32mif\u001b[0m \u001b[0mshapes\u001b[0m \u001b[0;32mis\u001b[0m \u001b[0mNone\u001b[0m\u001b[0;34m:\u001b[0m\u001b[0;34m\u001b[0m\u001b[0m\n\u001b[1;32m   1913\u001b[0m     raise RuntimeError(\n",
      "\u001b[0;32m/home/animesh/Programming/platforms/anaconda3/envs/snakes/lib/python2.7/site-packages/tensorflow/python/framework/ops.pyc\u001b[0m in \u001b[0;36mcall_with_requiring\u001b[0;34m(op)\u001b[0m\n\u001b[1;32m   1859\u001b[0m \u001b[0;34m\u001b[0m\u001b[0m\n\u001b[1;32m   1860\u001b[0m   \u001b[0;32mdef\u001b[0m \u001b[0mcall_with_requiring\u001b[0m\u001b[0;34m(\u001b[0m\u001b[0mop\u001b[0m\u001b[0;34m)\u001b[0m\u001b[0;34m:\u001b[0m\u001b[0;34m\u001b[0m\u001b[0m\n\u001b[0;32m-> 1861\u001b[0;31m     \u001b[0;32mreturn\u001b[0m \u001b[0mcall_cpp_shape_fn\u001b[0m\u001b[0;34m(\u001b[0m\u001b[0mop\u001b[0m\u001b[0;34m,\u001b[0m \u001b[0mrequire_shape_fn\u001b[0m\u001b[0;34m=\u001b[0m\u001b[0mTrue\u001b[0m\u001b[0;34m)\u001b[0m\u001b[0;34m\u001b[0m\u001b[0m\n\u001b[0m\u001b[1;32m   1862\u001b[0m \u001b[0;34m\u001b[0m\u001b[0m\n\u001b[1;32m   1863\u001b[0m   \u001b[0m_call_cpp_shape_fn_and_require_op\u001b[0m \u001b[0;34m=\u001b[0m \u001b[0mcall_with_requiring\u001b[0m\u001b[0;34m\u001b[0m\u001b[0m\n",
      "\u001b[0;32m/home/animesh/Programming/platforms/anaconda3/envs/snakes/lib/python2.7/site-packages/tensorflow/python/framework/common_shapes.pyc\u001b[0m in \u001b[0;36mcall_cpp_shape_fn\u001b[0;34m(op, require_shape_fn)\u001b[0m\n\u001b[1;32m    593\u001b[0m     res = _call_cpp_shape_fn_impl(op, input_tensors_needed,\n\u001b[1;32m    594\u001b[0m                                   \u001b[0minput_tensors_as_shapes_needed\u001b[0m\u001b[0;34m,\u001b[0m\u001b[0;34m\u001b[0m\u001b[0m\n\u001b[0;32m--> 595\u001b[0;31m                                   require_shape_fn)\n\u001b[0m\u001b[1;32m    596\u001b[0m     \u001b[0;32mif\u001b[0m \u001b[0;32mnot\u001b[0m \u001b[0misinstance\u001b[0m\u001b[0;34m(\u001b[0m\u001b[0mres\u001b[0m\u001b[0;34m,\u001b[0m \u001b[0mdict\u001b[0m\u001b[0;34m)\u001b[0m\u001b[0;34m:\u001b[0m\u001b[0;34m\u001b[0m\u001b[0m\n\u001b[1;32m    597\u001b[0m       \u001b[0;31m# Handles the case where _call_cpp_shape_fn_impl calls unknown_shape(op).\u001b[0m\u001b[0;34m\u001b[0m\u001b[0;34m\u001b[0m\u001b[0m\n",
      "\u001b[0;32m/home/animesh/Programming/platforms/anaconda3/envs/snakes/lib/python2.7/site-packages/tensorflow/python/framework/common_shapes.pyc\u001b[0m in \u001b[0;36m_call_cpp_shape_fn_impl\u001b[0;34m(op, input_tensors_needed, input_tensors_as_shapes_needed, require_shape_fn)\u001b[0m\n\u001b[1;32m    657\u001b[0m       \u001b[0mmissing_shape_fn\u001b[0m \u001b[0;34m=\u001b[0m \u001b[0mTrue\u001b[0m\u001b[0;34m\u001b[0m\u001b[0m\n\u001b[1;32m    658\u001b[0m     \u001b[0;32melse\u001b[0m\u001b[0;34m:\u001b[0m\u001b[0;34m\u001b[0m\u001b[0m\n\u001b[0;32m--> 659\u001b[0;31m       \u001b[0;32mraise\u001b[0m \u001b[0mValueError\u001b[0m\u001b[0;34m(\u001b[0m\u001b[0merr\u001b[0m\u001b[0;34m.\u001b[0m\u001b[0mmessage\u001b[0m\u001b[0;34m)\u001b[0m\u001b[0;34m\u001b[0m\u001b[0m\n\u001b[0m\u001b[1;32m    660\u001b[0m \u001b[0;34m\u001b[0m\u001b[0m\n\u001b[1;32m    661\u001b[0m   \u001b[0;32mif\u001b[0m \u001b[0mmissing_shape_fn\u001b[0m\u001b[0;34m:\u001b[0m\u001b[0;34m\u001b[0m\u001b[0m\n",
      "\u001b[0;31mValueError\u001b[0m: Dimensions must be equal, but are 128 and 3 for 'embedding_rnn_seq2seq/embedding_rnn_decoder/rnn_decoder/loop_function/xw_plus_b/MatMul' (op: 'MatMul') with input shapes: [85,128], [3,55003]."
     ]
    }
   ],
   "source": [
    "# create the embedding_seq2seq model which is used with the tf.nn.GRUCell\n",
    "# in case this cell is run multiple times,\n",
    "\n",
    "cell = tf.nn.rnn_cell.LSTMCell(hidden_state_size)\n",
    "outputs, states = tf.contrib.legacy_seq2seq.embedding_rnn_seq2seq (\n",
    "        encoder_input, \n",
    "        decoder_input,\n",
    "        cell,\n",
    "        len(dictionary),\n",
    "        len(dictionary),\n",
    "        embedding_size,\n",
    "        output_projection = (proj_weights, proj_biases),\n",
    "        feed_previous = True\n",
    "      )"
   ]
  },
  {
   "cell_type": "code",
   "execution_count": 13,
   "metadata": {},
   "outputs": [
    {
     "data": {
      "text/plain": [
       "((64,), TensorShape([Dimension(85), Dimension(128)]))"
      ]
     },
     "execution_count": 13,
     "metadata": {},
     "output_type": "execute_result"
    }
   ],
   "source": [
    "np.array(outputs).shape, outputs[0].shape"
   ]
  },
  {
   "cell_type": "code",
   "execution_count": 34,
   "metadata": {},
   "outputs": [
    {
     "data": {
      "text/plain": [
       "<tf.Tensor 'stack_2:0' shape=(64, 85, 128) dtype=float32>"
      ]
     },
     "execution_count": 34,
     "metadata": {},
     "output_type": "execute_result"
    }
   ],
   "source": [
    "output_tensor = tf.stack(outputs)\n",
    "output_tensor"
   ]
  },
  {
   "cell_type": "code",
   "execution_count": 33,
   "metadata": {
    "collapsed": true
   },
   "outputs": [],
   "source": [
    "# define the weights and biases for projecting the dimemsions\n",
    "final_weights = tf.Variable(tf.truncated_normal(shape=(hidden_state_size, 1)))\n",
    "final_biases = tf.Variable(tf.zeros(shape=(1)))"
   ]
  },
  {
   "cell_type": "code",
   "execution_count": 36,
   "metadata": {
    "collapsed": true
   },
   "outputs": [],
   "source": [
    "output_tensor = tf.map_fn(lambda x: tf.matmul(x, final_weights) + final_biases, output_tensor)\n",
    "output_tensor = tf.squeeze(output_tensor)"
   ]
  },
  {
   "cell_type": "code",
   "execution_count": 39,
   "metadata": {},
   "outputs": [
    {
     "data": {
      "text/plain": [
       "(<tf.Tensor 'Squeeze_1:0' shape=(64, 85) dtype=float32>,\n",
       " <tf.Tensor 'Cast:0' shape=(64, 85) dtype=float32>)"
      ]
     },
     "execution_count": 39,
     "metadata": {},
     "output_type": "execute_result"
    }
   ],
   "source": [
    "output_tensor, decoder_input_tensor # the dimensions match! so now we can use it for calculating loss"
   ]
  },
  {
   "cell_type": "code",
   "execution_count": 40,
   "metadata": {},
   "outputs": [
    {
     "data": {
      "text/plain": [
       "<tf.Tensor 'embedding_rnn_seq2seq/embedding_rnn_decoder/rnn_decoder/rnn_decoder/lstm_cell/lstm_cell_63/add_1:0' shape=(85, 128) dtype=float32>"
      ]
     },
     "execution_count": 40,
     "metadata": {},
     "output_type": "execute_result"
    }
   ],
   "source": [
    "states.c"
   ]
  },
  {
   "cell_type": "code",
   "execution_count": 41,
   "metadata": {},
   "outputs": [
    {
     "data": {
      "text/plain": [
       "<tf.Tensor 'embedding_rnn_seq2seq/embedding_rnn_decoder/rnn_decoder/rnn_decoder/lstm_cell/lstm_cell_63/mul_2:0' shape=(85, 128) dtype=float32>"
      ]
     },
     "execution_count": 41,
     "metadata": {},
     "output_type": "execute_result"
    }
   ],
   "source": [
    "states.h"
   ]
  },
  {
   "cell_type": "code",
   "execution_count": 42,
   "metadata": {
    "collapsed": true,
    "scrolled": true
   },
   "outputs": [],
   "source": [
    "loss = tf.reduce_mean(tf.squared_difference(output_tensor, decoder_input_tensor), name=\"loss\")\n",
    "loss_summary = tf.summary.scalar(\"Loss\", loss)"
   ]
  },
  {
   "cell_type": "code",
   "execution_count": 43,
   "metadata": {
    "collapsed": true
   },
   "outputs": [],
   "source": [
    "optimizer = tf.train.AdamOptimizer()\n",
    "train_step = optimizer.minimize(loss)"
   ]
  },
  {
   "cell_type": "code",
   "execution_count": 44,
   "metadata": {
    "collapsed": true
   },
   "outputs": [],
   "source": [
    "# initializer op for the graph\n",
    "init = tf.global_variables_initializer()\n",
    "all_summaries = tf.summary.merge_all()"
   ]
  },
  {
   "cell_type": "markdown",
   "metadata": {
    "collapsed": true
   },
   "source": [
    "# Let's try visualizing the graph in tensorboard to check if all the wirings are correct"
   ]
  },
  {
   "cell_type": "code",
   "execution_count": 45,
   "metadata": {
    "collapsed": true
   },
   "outputs": [],
   "source": [
    "itera = 1\n",
    "model_name = \"Model3\"\n",
    "data_size = len(dquestions)"
   ]
  },
  {
   "cell_type": "code",
   "execution_count": 46,
   "metadata": {
    "collapsed": true
   },
   "outputs": [],
   "source": [
    "visualizer_path = os.path.join(base_model_path, model_name)\n",
    "tensorboard_writer = tf.summary.FileWriter(visualizer_path, sess.graph, filename_suffix=\".bot\")"
   ]
  },
  {
   "cell_type": "markdown",
   "metadata": {
    "collapsed": true
   },
   "source": [
    "# Alright, the wiring looks okay at the first look. Let's start training the model!"
   ]
  },
  {
   "cell_type": "code",
   "execution_count": 47,
   "metadata": {
    "collapsed": true
   },
   "outputs": [],
   "source": [
    "global_index = 0"
   ]
  },
  {
   "cell_type": "code",
   "execution_count": 48,
   "metadata": {
    "scrolled": true
   },
   "outputs": [
    {
     "name": "stdout",
     "output_type": "stream",
     "text": [
      "epoch: 10\n",
      "=================================================================================================\n",
      "=================================================================================================\n",
      "loss = 8590258.0\n",
      "\n",
      "=========================================================================================\n",
      "\n",
      "=================================================================================================\n",
      "=================================================================================================\n",
      "epoch: 20\n",
      "=================================================================================================\n",
      "=================================================================================================\n",
      "loss = 4888804.0\n",
      "\n",
      "=========================================================================================\n",
      "\n",
      "=================================================================================================\n",
      "=================================================================================================\n",
      "epoch: 30\n",
      "=================================================================================================\n",
      "=================================================================================================\n",
      "loss = 7846376.5\n",
      "\n",
      "=========================================================================================\n",
      "\n",
      "=================================================================================================\n",
      "=================================================================================================\n",
      "epoch: 40\n",
      "=================================================================================================\n",
      "=================================================================================================\n",
      "loss = 7039440.5\n",
      "\n",
      "=========================================================================================\n",
      "\n",
      "=================================================================================================\n",
      "=================================================================================================\n",
      "epoch: 50\n",
      "=================================================================================================\n",
      "=================================================================================================\n",
      "loss = 3569902.75\n",
      "\n",
      "=========================================================================================\n",
      "\n",
      "=================================================================================================\n",
      "=================================================================================================\n",
      "epoch: 60\n",
      "=================================================================================================\n",
      "=================================================================================================\n",
      "loss = 9106089.0\n",
      "\n",
      "=========================================================================================\n",
      "\n",
      "=================================================================================================\n",
      "=================================================================================================\n",
      "epoch: 70\n",
      "=================================================================================================\n",
      "=================================================================================================\n",
      "loss = 12809460.0\n",
      "\n",
      "=========================================================================================\n",
      "\n",
      "=================================================================================================\n",
      "=================================================================================================\n",
      "epoch: 80\n",
      "=================================================================================================\n",
      "=================================================================================================\n",
      "loss = 5550352.5\n",
      "\n",
      "=========================================================================================\n",
      "\n",
      "=================================================================================================\n",
      "=================================================================================================\n",
      "epoch: 90\n",
      "=================================================================================================\n",
      "=================================================================================================\n",
      "loss = 11707415.0\n",
      "\n",
      "=========================================================================================\n",
      "\n",
      "=================================================================================================\n",
      "=================================================================================================\n",
      "epoch: 100\n",
      "=================================================================================================\n",
      "=================================================================================================\n",
      "loss = 8912952.0\n",
      "\n",
      "=========================================================================================\n",
      "\n",
      "=================================================================================================\n",
      "=================================================================================================\n",
      "epoch: 110\n",
      "=================================================================================================\n",
      "=================================================================================================\n",
      "loss = 9867705.0\n",
      "\n",
      "=========================================================================================\n",
      "\n",
      "=================================================================================================\n",
      "=================================================================================================\n",
      "epoch: 120\n",
      "=================================================================================================\n",
      "=================================================================================================\n",
      "loss = 11138838.0\n",
      "\n",
      "=========================================================================================\n",
      "\n",
      "=================================================================================================\n",
      "=================================================================================================\n",
      "epoch: 130\n",
      "=================================================================================================\n",
      "=================================================================================================\n",
      "loss = 9770695.0\n",
      "\n",
      "=========================================================================================\n",
      "\n",
      "=================================================================================================\n",
      "=================================================================================================\n",
      "epoch: 140\n",
      "=================================================================================================\n",
      "=================================================================================================\n",
      "loss = 5204987.5\n",
      "\n",
      "=========================================================================================\n",
      "\n",
      "=================================================================================================\n",
      "=================================================================================================\n",
      "epoch: 150\n",
      "=================================================================================================\n",
      "=================================================================================================\n",
      "loss = 12867747.0\n",
      "\n",
      "=========================================================================================\n",
      "\n",
      "=================================================================================================\n",
      "=================================================================================================\n",
      "epoch: 160\n",
      "=================================================================================================\n",
      "=================================================================================================\n",
      "loss = 7759093.5\n",
      "\n",
      "=========================================================================================\n",
      "\n",
      "=================================================================================================\n",
      "=================================================================================================\n",
      "epoch: 170\n",
      "=================================================================================================\n",
      "=================================================================================================\n",
      "loss = 6811445.5\n",
      "\n",
      "=========================================================================================\n",
      "\n",
      "=================================================================================================\n",
      "=================================================================================================\n"
     ]
    },
    {
     "name": "stdout",
     "output_type": "stream",
     "text": [
      "epoch: 180\n",
      "=================================================================================================\n",
      "=================================================================================================\n",
      "loss = 8077971.0\n",
      "\n",
      "=========================================================================================\n",
      "\n",
      "=================================================================================================\n",
      "=================================================================================================\n",
      "epoch: 190\n",
      "=================================================================================================\n",
      "=================================================================================================\n",
      "loss = 7005283.5\n",
      "\n",
      "=========================================================================================\n",
      "\n",
      "=================================================================================================\n",
      "=================================================================================================\n",
      "epoch: 200\n",
      "=================================================================================================\n",
      "=================================================================================================\n",
      "loss = 10219593.0\n",
      "\n",
      "=========================================================================================\n",
      "\n",
      "=================================================================================================\n",
      "=================================================================================================\n",
      "epoch: 210\n",
      "=================================================================================================\n",
      "=================================================================================================\n",
      "loss = 10619173.0\n",
      "\n",
      "=========================================================================================\n",
      "\n",
      "=================================================================================================\n",
      "=================================================================================================\n",
      "epoch: 220\n",
      "=================================================================================================\n",
      "=================================================================================================\n",
      "loss = 6855763.5\n",
      "\n",
      "=========================================================================================\n",
      "\n",
      "=================================================================================================\n",
      "=================================================================================================\n",
      "epoch: 230\n",
      "=================================================================================================\n",
      "=================================================================================================\n",
      "loss = 8810130.0\n",
      "\n",
      "=========================================================================================\n",
      "\n",
      "=================================================================================================\n",
      "=================================================================================================\n",
      "epoch: 240\n",
      "=================================================================================================\n",
      "=================================================================================================\n",
      "loss = 8488360.0\n",
      "\n",
      "=========================================================================================\n",
      "\n",
      "=================================================================================================\n",
      "=================================================================================================\n",
      "epoch: 250\n",
      "=================================================================================================\n",
      "=================================================================================================\n",
      "loss = 8119549.5\n",
      "\n",
      "=========================================================================================\n",
      "\n",
      "=================================================================================================\n",
      "=================================================================================================\n",
      "epoch: 260\n",
      "=================================================================================================\n",
      "=================================================================================================\n",
      "loss = 6680278.5\n",
      "\n",
      "=========================================================================================\n",
      "\n",
      "=================================================================================================\n",
      "=================================================================================================\n",
      "epoch: 270\n",
      "=================================================================================================\n",
      "=================================================================================================\n",
      "loss = 7994903.5\n",
      "\n",
      "=========================================================================================\n",
      "\n",
      "=================================================================================================\n",
      "=================================================================================================\n",
      "epoch: 280\n",
      "=================================================================================================\n",
      "=================================================================================================\n",
      "loss = 4993389.5\n",
      "\n",
      "=========================================================================================\n",
      "\n",
      "=================================================================================================\n",
      "=================================================================================================\n",
      "epoch: 290\n",
      "=================================================================================================\n",
      "=================================================================================================\n",
      "loss = 2705012.75\n",
      "\n",
      "=========================================================================================\n",
      "\n",
      "=================================================================================================\n",
      "=================================================================================================\n",
      "epoch: 300\n",
      "=================================================================================================\n",
      "=================================================================================================\n",
      "loss = 4289438.5\n",
      "\n",
      "=========================================================================================\n",
      "\n",
      "=================================================================================================\n",
      "=================================================================================================\n",
      "epoch: 310\n",
      "=================================================================================================\n",
      "=================================================================================================\n",
      "loss = 5700191.0\n",
      "\n",
      "=========================================================================================\n",
      "\n",
      "=================================================================================================\n",
      "=================================================================================================\n",
      "epoch: 320\n",
      "=================================================================================================\n",
      "=================================================================================================\n",
      "loss = 7061551.5\n",
      "\n",
      "=========================================================================================\n",
      "\n",
      "=================================================================================================\n",
      "=================================================================================================\n",
      "epoch: 330\n",
      "=================================================================================================\n",
      "=================================================================================================\n",
      "loss = 9301330.0\n",
      "\n",
      "=========================================================================================\n",
      "\n",
      "=================================================================================================\n",
      "=================================================================================================\n"
     ]
    },
    {
     "name": "stdout",
     "output_type": "stream",
     "text": [
      "epoch: 340\n",
      "=================================================================================================\n",
      "=================================================================================================\n",
      "loss = 7052962.5\n",
      "\n",
      "=========================================================================================\n",
      "\n",
      "=================================================================================================\n",
      "=================================================================================================\n",
      "epoch: 350\n",
      "=================================================================================================\n",
      "=================================================================================================\n",
      "loss = 5097945.0\n",
      "\n",
      "=========================================================================================\n",
      "\n",
      "=================================================================================================\n",
      "=================================================================================================\n",
      "epoch: 360\n",
      "=================================================================================================\n",
      "=================================================================================================\n",
      "loss = 6433445.0\n",
      "\n",
      "=========================================================================================\n",
      "\n",
      "=================================================================================================\n",
      "=================================================================================================\n",
      "epoch: 370\n",
      "=================================================================================================\n",
      "=================================================================================================\n",
      "loss = 5734353.5\n",
      "\n",
      "=========================================================================================\n",
      "\n",
      "=================================================================================================\n",
      "=================================================================================================\n",
      "epoch: 380\n",
      "=================================================================================================\n",
      "=================================================================================================\n",
      "loss = 6717685.5\n",
      "\n",
      "=========================================================================================\n",
      "\n",
      "=================================================================================================\n",
      "=================================================================================================\n",
      "epoch: 390\n",
      "=================================================================================================\n",
      "=================================================================================================\n",
      "loss = 3777068.5\n",
      "\n",
      "=========================================================================================\n",
      "\n",
      "=================================================================================================\n",
      "=================================================================================================\n",
      "epoch: 400\n",
      "=================================================================================================\n",
      "=================================================================================================\n",
      "loss = 7209726.5\n",
      "\n",
      "=========================================================================================\n",
      "\n",
      "=================================================================================================\n",
      "=================================================================================================\n",
      "epoch: 410\n",
      "=================================================================================================\n",
      "=================================================================================================\n",
      "loss = 7311528.5\n",
      "\n",
      "=========================================================================================\n",
      "\n",
      "=================================================================================================\n",
      "=================================================================================================\n",
      "epoch: 420\n",
      "=================================================================================================\n",
      "=================================================================================================\n",
      "loss = 8420218.0\n",
      "\n",
      "=========================================================================================\n",
      "\n",
      "=================================================================================================\n",
      "=================================================================================================\n",
      "epoch: 430\n",
      "=================================================================================================\n",
      "=================================================================================================\n",
      "loss = 5299102.0\n",
      "\n",
      "=========================================================================================\n",
      "\n",
      "=================================================================================================\n",
      "=================================================================================================\n",
      "epoch: 440\n",
      "=================================================================================================\n",
      "=================================================================================================\n",
      "loss = 11118746.0\n",
      "\n",
      "=========================================================================================\n",
      "\n",
      "=================================================================================================\n",
      "=================================================================================================\n",
      "epoch: 450\n",
      "=================================================================================================\n",
      "=================================================================================================\n",
      "loss = 9024522.0\n",
      "\n",
      "=========================================================================================\n",
      "\n",
      "=================================================================================================\n",
      "=================================================================================================\n",
      "epoch: 460\n",
      "=================================================================================================\n",
      "=================================================================================================\n",
      "loss = 6864376.5\n",
      "\n",
      "=========================================================================================\n",
      "\n",
      "=================================================================================================\n",
      "=================================================================================================\n",
      "epoch: 470\n",
      "=================================================================================================\n",
      "=================================================================================================\n",
      "loss = 9634773.0\n",
      "\n",
      "=========================================================================================\n",
      "\n",
      "=================================================================================================\n",
      "=================================================================================================\n",
      "epoch: 480\n",
      "=================================================================================================\n",
      "=================================================================================================\n",
      "loss = 5732134.0\n",
      "\n",
      "=========================================================================================\n",
      "\n",
      "=================================================================================================\n",
      "=================================================================================================\n",
      "epoch: 490\n",
      "=================================================================================================\n",
      "=================================================================================================\n",
      "loss = 5398076.0\n",
      "\n",
      "=========================================================================================\n",
      "\n",
      "=================================================================================================\n",
      "=================================================================================================\n"
     ]
    },
    {
     "name": "stdout",
     "output_type": "stream",
     "text": [
      "epoch: 500\n",
      "=================================================================================================\n",
      "=================================================================================================\n",
      "loss = 4669407.5\n",
      "\n",
      "=========================================================================================\n",
      "\n",
      "=================================================================================================\n",
      "=================================================================================================\n",
      "epoch: 510\n",
      "=================================================================================================\n",
      "=================================================================================================\n",
      "loss = 5623746.5\n",
      "\n",
      "=========================================================================================\n",
      "\n",
      "=================================================================================================\n",
      "=================================================================================================\n",
      "epoch: 520\n",
      "=================================================================================================\n",
      "=================================================================================================\n",
      "loss = 4881076.5\n",
      "\n",
      "=========================================================================================\n",
      "\n",
      "=================================================================================================\n",
      "=================================================================================================\n",
      "epoch: 530\n",
      "=================================================================================================\n",
      "=================================================================================================\n",
      "loss = 6071260.5\n",
      "\n",
      "=========================================================================================\n",
      "\n",
      "=================================================================================================\n",
      "=================================================================================================\n",
      "epoch: 540\n",
      "=================================================================================================\n",
      "=================================================================================================\n",
      "loss = 7382319.5\n",
      "\n",
      "=========================================================================================\n",
      "\n",
      "=================================================================================================\n",
      "=================================================================================================\n",
      "epoch: 550\n",
      "=================================================================================================\n",
      "=================================================================================================\n",
      "loss = 6095815.0\n",
      "\n",
      "=========================================================================================\n",
      "\n",
      "=================================================================================================\n",
      "=================================================================================================\n",
      "epoch: 560\n",
      "=================================================================================================\n",
      "=================================================================================================\n",
      "loss = 12562822.0\n",
      "\n",
      "=========================================================================================\n",
      "\n",
      "=================================================================================================\n",
      "=================================================================================================\n",
      "epoch: 570\n",
      "=================================================================================================\n",
      "=================================================================================================\n",
      "loss = 10368860.0\n",
      "\n",
      "=========================================================================================\n",
      "\n",
      "=================================================================================================\n",
      "=================================================================================================\n",
      "epoch: 580\n",
      "=================================================================================================\n",
      "=================================================================================================\n",
      "loss = 7569588.0\n",
      "\n",
      "=========================================================================================\n",
      "\n",
      "=================================================================================================\n",
      "=================================================================================================\n",
      "epoch: 590\n",
      "=================================================================================================\n",
      "=================================================================================================\n",
      "loss = 4971739.0\n",
      "\n",
      "=========================================================================================\n",
      "\n",
      "=================================================================================================\n",
      "=================================================================================================\n",
      "epoch: 600\n",
      "=================================================================================================\n",
      "=================================================================================================\n",
      "loss = 5387962.0\n",
      "\n",
      "=========================================================================================\n",
      "\n",
      "=================================================================================================\n",
      "=================================================================================================\n",
      "epoch: 610\n",
      "=================================================================================================\n",
      "=================================================================================================\n",
      "loss = 6264020.5\n",
      "\n",
      "=========================================================================================\n",
      "\n",
      "=================================================================================================\n",
      "=================================================================================================\n",
      "epoch: 620\n",
      "=================================================================================================\n",
      "=================================================================================================\n",
      "loss = 4048196.25\n",
      "\n",
      "=========================================================================================\n",
      "\n",
      "=================================================================================================\n",
      "=================================================================================================\n",
      "epoch: 630\n",
      "=================================================================================================\n",
      "=================================================================================================\n",
      "loss = 4754331.0\n",
      "\n",
      "=========================================================================================\n",
      "\n",
      "=================================================================================================\n",
      "=================================================================================================\n",
      "epoch: 640\n",
      "=================================================================================================\n",
      "=================================================================================================\n",
      "loss = 3949751.75\n",
      "\n",
      "=========================================================================================\n",
      "\n",
      "=================================================================================================\n",
      "=================================================================================================\n",
      "epoch: 650\n",
      "=================================================================================================\n",
      "=================================================================================================\n",
      "loss = 7344845.0\n",
      "\n",
      "=========================================================================================\n",
      "\n",
      "=================================================================================================\n",
      "=================================================================================================\n"
     ]
    },
    {
     "name": "stdout",
     "output_type": "stream",
     "text": [
      "epoch: 660\n",
      "=================================================================================================\n",
      "=================================================================================================\n",
      "loss = 5162297.0\n",
      "\n",
      "=========================================================================================\n",
      "\n",
      "=================================================================================================\n",
      "=================================================================================================\n",
      "epoch: 670\n",
      "=================================================================================================\n",
      "=================================================================================================\n",
      "loss = 8410520.0\n",
      "\n",
      "=========================================================================================\n",
      "\n",
      "=================================================================================================\n",
      "=================================================================================================\n",
      "epoch: 680\n",
      "=================================================================================================\n",
      "=================================================================================================\n",
      "loss = 6274788.0\n",
      "\n",
      "=========================================================================================\n",
      "\n",
      "=================================================================================================\n",
      "=================================================================================================\n",
      "epoch: 690\n",
      "=================================================================================================\n",
      "=================================================================================================\n",
      "loss = 6065816.0\n",
      "\n",
      "=========================================================================================\n",
      "\n",
      "=================================================================================================\n",
      "=================================================================================================\n",
      "epoch: 700\n",
      "=================================================================================================\n",
      "=================================================================================================\n",
      "loss = 9326611.0\n",
      "\n",
      "=========================================================================================\n",
      "\n",
      "=================================================================================================\n",
      "=================================================================================================\n",
      "epoch: 710\n",
      "=================================================================================================\n",
      "=================================================================================================\n",
      "loss = 7490053.5\n",
      "\n",
      "=========================================================================================\n",
      "\n",
      "=================================================================================================\n",
      "=================================================================================================\n"
     ]
    },
    {
     "ename": "KeyboardInterrupt",
     "evalue": "",
     "output_type": "error",
     "traceback": [
      "\u001b[0;31m---------------------------------------------------------------------------\u001b[0m",
      "\u001b[0;31mKeyboardInterrupt\u001b[0m                         Traceback (most recent call last)",
      "\u001b[0;32m<ipython-input-48-6e274a2858f3>\u001b[0m in \u001b[0;36m<module>\u001b[0;34m()\u001b[0m\n\u001b[1;32m     67\u001b[0m \u001b[0;34m\u001b[0m\u001b[0m\n\u001b[1;32m     68\u001b[0m             \u001b[0;31m# save the model trained so far:\u001b[0m\u001b[0;34m\u001b[0m\u001b[0;34m\u001b[0m\u001b[0m\n\u001b[0;32m---> 69\u001b[0;31m             \u001b[0msaver\u001b[0m\u001b[0;34m.\u001b[0m\u001b[0msave\u001b[0m\u001b[0;34m(\u001b[0m\u001b[0msess\u001b[0m\u001b[0;34m,\u001b[0m \u001b[0mos\u001b[0m\u001b[0;34m.\u001b[0m\u001b[0mpath\u001b[0m\u001b[0;34m.\u001b[0m\u001b[0mjoin\u001b[0m\u001b[0;34m(\u001b[0m\u001b[0mmodel_path\u001b[0m\u001b[0;34m,\u001b[0m \u001b[0mmodel_name\u001b[0m\u001b[0;34m)\u001b[0m\u001b[0;34m,\u001b[0m \u001b[0mglobal_step\u001b[0m \u001b[0;34m=\u001b[0m \u001b[0;34m(\u001b[0m\u001b[0mep\u001b[0m \u001b[0;34m+\u001b[0m \u001b[0;36m1\u001b[0m\u001b[0;34m)\u001b[0m\u001b[0;34m)\u001b[0m\u001b[0;34m\u001b[0m\u001b[0m\n\u001b[0m",
      "\u001b[0;32m/home/animesh/Programming/platforms/anaconda3/envs/snakes/lib/python2.7/site-packages/tensorflow/python/training/saver.pyc\u001b[0m in \u001b[0;36msave\u001b[0;34m(self, sess, save_path, global_step, latest_filename, meta_graph_suffix, write_meta_graph, write_state)\u001b[0m\n\u001b[1;32m   1494\u001b[0m           checkpoint_file, meta_graph_suffix=meta_graph_suffix)\n\u001b[1;32m   1495\u001b[0m       \u001b[0;32mwith\u001b[0m \u001b[0msess\u001b[0m\u001b[0;34m.\u001b[0m\u001b[0mgraph\u001b[0m\u001b[0;34m.\u001b[0m\u001b[0mas_default\u001b[0m\u001b[0;34m(\u001b[0m\u001b[0;34m)\u001b[0m\u001b[0;34m:\u001b[0m\u001b[0;34m\u001b[0m\u001b[0m\n\u001b[0;32m-> 1496\u001b[0;31m         \u001b[0mself\u001b[0m\u001b[0;34m.\u001b[0m\u001b[0mexport_meta_graph\u001b[0m\u001b[0;34m(\u001b[0m\u001b[0mmeta_graph_filename\u001b[0m\u001b[0;34m)\u001b[0m\u001b[0;34m\u001b[0m\u001b[0m\n\u001b[0m\u001b[1;32m   1497\u001b[0m \u001b[0;34m\u001b[0m\u001b[0m\n\u001b[1;32m   1498\u001b[0m     \u001b[0;32mif\u001b[0m \u001b[0mself\u001b[0m\u001b[0;34m.\u001b[0m\u001b[0m_is_empty\u001b[0m\u001b[0;34m:\u001b[0m\u001b[0;34m\u001b[0m\u001b[0m\n",
      "\u001b[0;32m/home/animesh/Programming/platforms/anaconda3/envs/snakes/lib/python2.7/site-packages/tensorflow/python/training/saver.pyc\u001b[0m in \u001b[0;36mexport_meta_graph\u001b[0;34m(self, filename, collection_list, as_text, export_scope, clear_devices, clear_extraneous_savers)\u001b[0m\n\u001b[1;32m   1526\u001b[0m     return export_meta_graph(\n\u001b[1;32m   1527\u001b[0m         \u001b[0mfilename\u001b[0m\u001b[0;34m=\u001b[0m\u001b[0mfilename\u001b[0m\u001b[0;34m,\u001b[0m\u001b[0;34m\u001b[0m\u001b[0m\n\u001b[0;32m-> 1528\u001b[0;31m         \u001b[0mgraph_def\u001b[0m\u001b[0;34m=\u001b[0m\u001b[0mops\u001b[0m\u001b[0;34m.\u001b[0m\u001b[0mget_default_graph\u001b[0m\u001b[0;34m(\u001b[0m\u001b[0;34m)\u001b[0m\u001b[0;34m.\u001b[0m\u001b[0mas_graph_def\u001b[0m\u001b[0;34m(\u001b[0m\u001b[0madd_shapes\u001b[0m\u001b[0;34m=\u001b[0m\u001b[0mTrue\u001b[0m\u001b[0;34m)\u001b[0m\u001b[0;34m,\u001b[0m\u001b[0;34m\u001b[0m\u001b[0m\n\u001b[0m\u001b[1;32m   1529\u001b[0m         \u001b[0msaver_def\u001b[0m\u001b[0;34m=\u001b[0m\u001b[0mself\u001b[0m\u001b[0;34m.\u001b[0m\u001b[0msaver_def\u001b[0m\u001b[0;34m,\u001b[0m\u001b[0;34m\u001b[0m\u001b[0m\n\u001b[1;32m   1530\u001b[0m         \u001b[0mcollection_list\u001b[0m\u001b[0;34m=\u001b[0m\u001b[0mcollection_list\u001b[0m\u001b[0;34m,\u001b[0m\u001b[0;34m\u001b[0m\u001b[0m\n",
      "\u001b[0;32m/home/animesh/Programming/platforms/anaconda3/envs/snakes/lib/python2.7/site-packages/tensorflow/python/framework/ops.pyc\u001b[0m in \u001b[0;36mas_graph_def\u001b[0;34m(self, from_version, add_shapes)\u001b[0m\n\u001b[1;32m   2483\u001b[0m     \"\"\"\n\u001b[1;32m   2484\u001b[0m     \u001b[0;31m# pylint: enable=line-too-long\u001b[0m\u001b[0;34m\u001b[0m\u001b[0;34m\u001b[0m\u001b[0m\n\u001b[0;32m-> 2485\u001b[0;31m     \u001b[0mresult\u001b[0m\u001b[0;34m,\u001b[0m \u001b[0m_\u001b[0m \u001b[0;34m=\u001b[0m \u001b[0mself\u001b[0m\u001b[0;34m.\u001b[0m\u001b[0m_as_graph_def\u001b[0m\u001b[0;34m(\u001b[0m\u001b[0mfrom_version\u001b[0m\u001b[0;34m,\u001b[0m \u001b[0madd_shapes\u001b[0m\u001b[0;34m)\u001b[0m\u001b[0;34m\u001b[0m\u001b[0m\n\u001b[0m\u001b[1;32m   2486\u001b[0m     \u001b[0;32mreturn\u001b[0m \u001b[0mresult\u001b[0m\u001b[0;34m\u001b[0m\u001b[0m\n\u001b[1;32m   2487\u001b[0m \u001b[0;34m\u001b[0m\u001b[0m\n",
      "\u001b[0;32m/home/animesh/Programming/platforms/anaconda3/envs/snakes/lib/python2.7/site-packages/tensorflow/python/framework/ops.pyc\u001b[0m in \u001b[0;36m_as_graph_def\u001b[0;34m(self, from_version, add_shapes)\u001b[0m\n\u001b[1;32m   2441\u001b[0m             \u001b[0;32massert\u001b[0m \u001b[0;34m\"_output_shapes\"\u001b[0m \u001b[0;32mnot\u001b[0m \u001b[0;32min\u001b[0m \u001b[0mgraph\u001b[0m\u001b[0;34m.\u001b[0m\u001b[0mnode\u001b[0m\u001b[0;34m[\u001b[0m\u001b[0;34m-\u001b[0m\u001b[0;36m1\u001b[0m\u001b[0;34m]\u001b[0m\u001b[0;34m.\u001b[0m\u001b[0mattr\u001b[0m\u001b[0;34m\u001b[0m\u001b[0m\n\u001b[1;32m   2442\u001b[0m             graph.node[-1].attr[\"_output_shapes\"].list.shape.extend([\n\u001b[0;32m-> 2443\u001b[0;31m                 output.get_shape().as_proto() for output in op.outputs])\n\u001b[0m\u001b[1;32m   2444\u001b[0m           \u001b[0mbytesize\u001b[0m \u001b[0;34m+=\u001b[0m \u001b[0mop\u001b[0m\u001b[0;34m.\u001b[0m\u001b[0mnode_def\u001b[0m\u001b[0;34m.\u001b[0m\u001b[0mByteSize\u001b[0m\u001b[0;34m(\u001b[0m\u001b[0;34m)\u001b[0m\u001b[0;34m\u001b[0m\u001b[0m\n\u001b[1;32m   2445\u001b[0m           \u001b[0;32mif\u001b[0m \u001b[0mbytesize\u001b[0m \u001b[0;34m>=\u001b[0m \u001b[0;34m(\u001b[0m\u001b[0;36m1\u001b[0m \u001b[0;34m<<\u001b[0m \u001b[0;36m31\u001b[0m\u001b[0;34m)\u001b[0m \u001b[0;32mor\u001b[0m \u001b[0mbytesize\u001b[0m \u001b[0;34m<\u001b[0m \u001b[0;36m0\u001b[0m\u001b[0;34m:\u001b[0m\u001b[0;34m\u001b[0m\u001b[0m\n",
      "\u001b[0;31mKeyboardInterrupt\u001b[0m: "
     ]
    }
   ],
   "source": [
    "# The session runner cell:\n",
    "'''\n",
    "code snippet to run a tensorflow session for performing the training.\n",
    "'''\n",
    "\n",
    "''' \n",
    "    WARNING WARNING WARNING!!! This is the main training cell. \n",
    "    This cell will take a really really long time on low-end machines. It will however not crash your pc, since \n",
    "    I have bootstrapped the training in such a way that it loads a small chunk of data at a time to train.\n",
    "'''\n",
    "\n",
    "with tf.Session() as sess:\n",
    "    # bring the global_index into current scope:\n",
    "    global global_index\n",
    "    \n",
    "    # The saver object for saving and loading the model\n",
    "    saver = tf.train.Saver(max_to_keep=2)\n",
    "    \n",
    "    # the path where the model will be saved \n",
    "    ''' Currently using the Model no. 2 '''\n",
    "    # let's visualize this graph in tensorboard:\n",
    "    model_path = os.path.join(base_model_path, model_name)\n",
    "    \n",
    "    if(os.path.isfile(os.path.join(model_path, \"checkpoint\"))):\n",
    "        # load the weights from the model\n",
    "        # instead of global variable initializer, restore the graph:\n",
    "        saver.restore(sess, tf.train.latest_checkpoint(model_path))\n",
    "        \n",
    "    else:\n",
    "        \n",
    "        # initialize all the variables\n",
    "        sess.run(init)\n",
    "    \n",
    "    for ep in range((itera - 1) * no_of_epochs, itera * no_of_epochs):  # start the loop \n",
    "        \n",
    "        start = global_index\n",
    "        end = start + batch_size\n",
    "            \n",
    "        questions_raw = dquestions[start: end]\n",
    "        queries_raw = dqueries[start: end]\n",
    "            \n",
    "        global_index = (global_index + batch_size) % data_size\n",
    "        \n",
    "        # construct the feed dictionary\n",
    "        ques_dict = {i: d for (i, d) in zip(encoder_input, questions_raw)}\n",
    "        quer_dict = {i: d for (i, d) in zip(decoder_input, queries_raw)}\n",
    "        combined_dict = dict(ques_dict.items() + quer_dict.items())\n",
    "        \n",
    "        # execute the training op\n",
    "        _, cost = sess.run([train_step, loss], feed_dict=combined_dict)\n",
    "        \n",
    "        if((ep + 1) % checkpoint_factor == 0):\n",
    "            # print the log statements:\n",
    "            print \"epoch: \" + str(ep + 1)\n",
    "            print \"=================================================================================================\"\n",
    "            print \"=================================================================================================\"\n",
    "            print('loss = {}'.format(cost))\n",
    "            print \"\\n=========================================================================================\\n\"\n",
    "            print \"=================================================================================================\"\n",
    "            print \"=================================================================================================\"\n",
    "            \n",
    "            # run the summary op also\n",
    "            summary = sess.run(all_summaries, feed_dict=combined_dict)\n",
    "\n",
    "            # add the generated summary to the fileWriter\n",
    "            tensorboard_writer.add_summary(summary, (ep + 1))\n",
    "            \n",
    "            # save the model trained so far:\n",
    "            saver.save(sess, os.path.join(model_path, model_name), global_step = (ep + 1))"
   ]
  }
 ],
 "metadata": {
  "kernelspec": {
   "display_name": "Python 2",
   "language": "python",
   "name": "python2"
  },
  "language_info": {
   "codemirror_mode": {
    "name": "ipython",
    "version": 2
   },
   "file_extension": ".py",
   "mimetype": "text/x-python",
   "name": "python",
   "nbconvert_exporter": "python",
   "pygments_lexer": "ipython2",
   "version": "2.7.13"
  }
 },
 "nbformat": 4,
 "nbformat_minor": 2
}
