{
 "cells": [
  {
   "cell_type": "markdown",
   "metadata": {},
   "source": [
    "# Accuracy calculation and Production testing"
   ]
  },
  {
   "cell_type": "code",
   "execution_count": 1,
   "metadata": {
    "collapsed": true
   },
   "outputs": [],
   "source": [
    "# packages used for processing: \n",
    "import cPickle as pickle # for reading the data\n",
    "import matplotlib.pyplot as plt # for visualization\n",
    "import numpy as np\n",
    "\n",
    "# for operating system related stuff\n",
    "import os\n",
    "import sys # for memory usage of objects\n",
    "from subprocess import check_output\n",
    "\n",
    "# the boss of frameworks\n",
    "import tensorflow as tf\n",
    "\n",
    "# for dataset building:\n",
    "import collections\n",
    "\n",
    "# for regex based preprocessing\n",
    "import re\n",
    "\n",
    "# to plot the images inline\n",
    "%matplotlib inline"
   ]
  },
  {
   "cell_type": "code",
   "execution_count": 2,
   "metadata": {
    "collapsed": true
   },
   "outputs": [],
   "source": [
    "# Input data files are available in the \"../Data/\" directory.\n",
    "\n",
    "def exec_command(cmd):\n",
    "    '''\n",
    "        function to execute a shell command and see it's \n",
    "        output in the python console\n",
    "        @params\n",
    "        cmd = the command to be executed along with the arguments\n",
    "              ex: ['ls', '../input']\n",
    "    '''\n",
    "    print(check_output(cmd).decode(\"utf8\"))"
   ]
  },
  {
   "cell_type": "code",
   "execution_count": 3,
   "metadata": {},
   "outputs": [
    {
     "name": "stdout",
     "output_type": "stream",
     "text": [
      "Data\n",
      "Models\n",
      "Scripts\n",
      "\n"
     ]
    }
   ],
   "source": [
    "# check the structure of the project directory\n",
    "exec_command(['ls', '..'])"
   ]
  },
  {
   "cell_type": "code",
   "execution_count": 4,
   "metadata": {
    "collapsed": true
   },
   "outputs": [],
   "source": [
    "''' Set the constants for the script '''\n",
    "\n",
    "# various paths of the files\n",
    "data_path = \"../Data/WikiSQL/data\" # the data path\n",
    "\n",
    "train_files = {\n",
    "    \"questions\": os.path.join(data_path, \"train.jsonl\"),\n",
    "    \"tables\": os.path.join(data_path, \"train.tables.jsonl\")\n",
    "}\n",
    "\n",
    "base_model_path = '../Models'\n",
    "\n",
    "processed_data_file_path = os.path.join(data_path, \"processed.pickle\")\n",
    "plug_and_play_data_file_path = os.path.join(data_path, \"plug_and_play.pickle\")\n",
    "\n",
    "# constants:\n",
    "model_name = \"Model3\"\n",
    "matcher_regex = r\"[\\w']+|[.,!?;\\\"]\"\n",
    "vocab_size = 55000 # total words in our vocabulary\n",
    "lstm_hidden_state_size = 512 # hidden state size\n",
    "seqs_length = 85\n",
    "no_of_epochs = 5000\n",
    "batch_size = 512 # we look at only 64 examples in a single batch            \n",
    "checkpoint_factor = 50 # save the model after every 5 epochs"
   ]
  },
  {
   "cell_type": "code",
   "execution_count": 5,
   "metadata": {},
   "outputs": [
    {
     "name": "stdout",
     "output_type": "stream",
     "text": [
      "dev.db\n",
      "dev.jsonl\n",
      "dev.tables.jsonl\n",
      "plug_and_play.pickle\n",
      "processed.pickle\n",
      "test.db\n",
      "test.jsonl\n",
      "test.tables.jsonl\n",
      "train.db\n",
      "train.jsonl\n",
      "train.tables.jsonl\n",
      "\n"
     ]
    }
   ],
   "source": [
    "# check the contents of the data path\n",
    "exec_command(['ls', data_path])"
   ]
  },
  {
   "cell_type": "code",
   "execution_count": 6,
   "metadata": {
    "collapsed": true
   },
   "outputs": [],
   "source": [
    "# create a function to unpickle the data into a python object\n",
    "def unpickle(pickle_file):\n",
    "    '''\n",
    "        function to unpickle the pickle file into a python compatible object\n",
    "        @param\n",
    "        pickle => the pickle file path\n",
    "        @return => the unpickled object\n",
    "    '''\n",
    "    with open(pickle_file) as dumper:\n",
    "        return pickle.load(dumper)"
   ]
  },
  {
   "cell_type": "code",
   "execution_count": 7,
   "metadata": {
    "collapsed": true
   },
   "outputs": [],
   "source": [
    "# load the processed pickled data into the script.\n",
    "data = unpickle(plug_and_play_data_file_path)\n",
    "\n",
    "dqueries = data[\"queries\"]\n",
    "dquestions = data[\"questions\"]\n",
    "dictionary = data[\"dictionary\"]\n",
    "reverse_dictionary = data[\"reverse_dictionary\"]"
   ]
  },
  {
   "cell_type": "code",
   "execution_count": 37,
   "metadata": {},
   "outputs": [],
   "source": [
    "# The loader graph:\n",
    "# Computation graph defining the network architecture of the model\n",
    "\n",
    "graph = tf.Graph()\n",
    "\n",
    "with graph.as_default():\n",
    "    \n",
    "    # constant to hold the training data and labels\n",
    "    with tf.variable_scope(\"input\"):\n",
    "        input_data = [tf.placeholder(tf.int32, shape=(seqs_length), name=\"input_sequences\")] # list of placeholders\n",
    "        input_translation = [tf.placeholder(tf.int32, shape=(seqs_length), name=\"ideal_output_sequences\")]\n",
    "        \n",
    "        loss_targets = tf.one_hot(tf.squeeze(input_translation), depth=len(dictionary.keys()))\n",
    "\n",
    "    # create the basic_rnn_seq2seq\n",
    "    outputs, states = tf.contrib.legacy_seq2seq.embedding_rnn_seq2seq (\n",
    "                        input_data, # encoder input\n",
    "                        input_translation, # decoder input\n",
    "                        tf.contrib.rnn.LSTMCell(lstm_hidden_state_size),\n",
    "                        len(dictionary.keys()),\n",
    "                        len(dictionary.keys()),\n",
    "                        128,\n",
    "                        feed_previous = True\n",
    "                      )\n",
    "    \n",
    "    # The output is now required for calculating the loss.\n",
    "    with tf.variable_scope(\"loss\"):\n",
    "        # we use the euclidean loss as the measure of minimization\n",
    "        # loss = tf.reduce_mean(tf.abs(tf.stack(outputs) - tf.stack(input_translation)), name=\"mean_loss\")\n",
    "        \n",
    "        # changed the loss to softmax_cross_entropy_with_logits\n",
    "        loss = tf.reduce_mean(tf.nn.softmax_cross_entropy_with_logits(\n",
    "                labels = loss_targets,\n",
    "                logits = outputs\n",
    "            ))\n",
    "        loss_summary = tf.summary.scalar(\"loss_summary\", loss)\n",
    "        \n",
    "    with tf.variable_scope(\"prediction\"):\n",
    "        # Evaluate model (with test logits, for dropout to be disabled)\n",
    "        prediction = tf.argmax(tf.squeeze(outputs), axis = 1)\n",
    "        \n",
    "    # the train module for running the optimization op\n",
    "    train_op = tf.train.AdamOptimizer(learning_rate=0.001).minimize(loss)\n",
    "    \n",
    "    all_summaries = tf.summary.merge_all()\n",
    "    \n",
    "    init = tf.global_variables_initializer()"
   ]
  },
  {
   "cell_type": "code",
   "execution_count": 38,
   "metadata": {},
   "outputs": [
    {
     "data": {
      "text/plain": [
       "<tf.Tensor 'prediction/ArgMax:0' shape=(85,) dtype=int64>"
      ]
     },
     "execution_count": 38,
     "metadata": {},
     "output_type": "execute_result"
    }
   ],
   "source": [
    "prediction"
   ]
  },
  {
   "cell_type": "code",
   "execution_count": 39,
   "metadata": {},
   "outputs": [],
   "source": [
    "# define a function to encode a question\n",
    "def encode(string_question):\n",
    "    '''\n",
    "        function to encode a given question string\n",
    "        @param \n",
    "        string_question => the question string\n",
    "        @return => list (sequence) of encoded integers \n",
    "    '''\n",
    "    \n",
    "    # drop the question mark if it exists in the given string\n",
    "    if(string_question[-1] == '?'):\n",
    "        string_question = string_question[:-1] # drop the question mark if it exists\n",
    "    \n",
    "    # split the question sentence into words and encode every word using the vocabulary\n",
    "    question_words = string_question.lower().split()\n",
    "    \n",
    "    encode = [] # start with empty list\n",
    "    for word in question_words:\n",
    "        if(word in dictionary):\n",
    "            encode.append(dictionary[word])\n",
    "        else:\n",
    "            encode.append(dictionary['UNK'])\n",
    "            \n",
    "    # pad the encode list using leading blanks\n",
    "    encode = encode[:seqs_length] # clip the length to the seqs_length\n",
    "    \n",
    "    while(len(encode) != seqs_length):\n",
    "        encode.append(dictionary['<blank>'])\n",
    "        \n",
    "    # return the encoded list\n",
    "    return encode"
   ]
  },
  {
   "cell_type": "code",
   "execution_count": 40,
   "metadata": {
    "collapsed": true
   },
   "outputs": [],
   "source": [
    "# function to decode the encoded query:\n",
    "def decode(encoded_list):\n",
    "    '''\n",
    "        function to decode the integer sequence\n",
    "        @param\n",
    "        encoded_list => the sequence of integers to decode\n",
    "        @return => the string fromed by decoding the input sequence\n",
    "    '''\n",
    "    \n",
    "    # generate the decoded words from the given list:\n",
    "    decoded_list = [] # start with empty list\n",
    "    for word in encoded_list:\n",
    "        if(word in reverse_dictionary):\n",
    "            decoded_list.append(reverse_dictionary[word])\n",
    "        else:\n",
    "            decoded_list.append('UNK')\n",
    "    \n",
    "    decoded_string = reduce(lambda x, y: x + \" \" + y, decoded_list)\n",
    "    \n",
    "    # return the decoded string\n",
    "    return decoded_string.replace(\"<blank>\", \"\")"
   ]
  },
  {
   "cell_type": "code",
   "execution_count": 41,
   "metadata": {
    "collapsed": true
   },
   "outputs": [],
   "source": [
    "# function to generate a mock decoder_input_string\n",
    "def generate_mock_decoder_input_sequence():\n",
    "    '''\n",
    "        @return => a mock decoder input sequence\n",
    "    '''\n",
    "    mock = [dictionary[\"<blank>\"] for _ in range(seqs_length)]\n",
    "    \n",
    "    # replace the first token by the '<go>' symbol\n",
    "    mock[0] = dictionary['<go>']\n",
    "    \n",
    "    # return the so created mock \n",
    "    return mock"
   ]
  },
  {
   "cell_type": "code",
   "execution_count": 13,
   "metadata": {},
   "outputs": [],
   "source": [
    "question = \"Who is the President of India?\"\n",
    "encoded_question = encode(question)"
   ]
  },
  {
   "cell_type": "code",
   "execution_count": 14,
   "metadata": {},
   "outputs": [
    {
     "data": {
      "text/plain": [
       "u'who is the president of india                                                                               '"
      ]
     },
     "execution_count": 14,
     "metadata": {},
     "output_type": "execute_result"
    }
   ],
   "source": [
    "decode(encoded_question)"
   ]
  },
  {
   "cell_type": "code",
   "execution_count": 15,
   "metadata": {},
   "outputs": [
    {
     "name": "stdout",
     "output_type": "stream",
     "text": [
      "[1, 0, 0, 0, 0, 0, 0, 0, 0, 0, 0, 0, 0, 0, 0, 0, 0, 0, 0, 0, 0, 0, 0, 0, 0, 0, 0, 0, 0, 0, 0, 0, 0, 0, 0, 0, 0, 0, 0, 0, 0, 0, 0, 0, 0, 0, 0, 0, 0, 0, 0, 0, 0, 0, 0, 0, 0, 0, 0, 0, 0, 0, 0, 0, 0, 0, 0, 0, 0, 0, 0, 0, 0, 0, 0, 0, 0, 0, 0, 0, 0, 0, 0, 0, 0]\n"
     ]
    }
   ],
   "source": [
    "print generate_mock_decoder_input_sequence()"
   ]
  },
  {
   "cell_type": "markdown",
   "metadata": {},
   "source": [
    "# restore the model and try running a few sample questions on the given graph"
   ]
  },
  {
   "cell_type": "code",
   "execution_count": 49,
   "metadata": {
    "collapsed": true
   },
   "outputs": [],
   "source": [
    "itera = 2\n",
    "global_index = 0\n",
    "data_size = len(dquestions)"
   ]
  },
  {
   "cell_type": "code",
   "execution_count": 50,
   "metadata": {
    "scrolled": true
   },
   "outputs": [
    {
     "name": "stdout",
     "output_type": "stream",
     "text": [
      "INFO:tensorflow:Restoring parameters from ../Models/Model3/Model3-5250\n"
     ]
    },
    {
     "ename": "KeyboardInterrupt",
     "evalue": "",
     "output_type": "error",
     "traceback": [
      "\u001b[0;31m---------------------------------------------------------------------------\u001b[0m",
      "\u001b[0;31mKeyboardInterrupt\u001b[0m                         Traceback (most recent call last)",
      "\u001b[0;32m<ipython-input-50-466eae875335>\u001b[0m in \u001b[0;36m<module>\u001b[0;34m()\u001b[0m\n\u001b[1;32m     53\u001b[0m \u001b[0;34m\u001b[0m\u001b[0m\n\u001b[1;32m     54\u001b[0m         \u001b[0;31m# execute the training op\u001b[0m\u001b[0;34m\u001b[0m\u001b[0;34m\u001b[0m\u001b[0m\n\u001b[0;32m---> 55\u001b[0;31m         \u001b[0m_\u001b[0m\u001b[0;34m,\u001b[0m \u001b[0mcost\u001b[0m \u001b[0;34m=\u001b[0m \u001b[0msess\u001b[0m\u001b[0;34m.\u001b[0m\u001b[0mrun\u001b[0m\u001b[0;34m(\u001b[0m\u001b[0;34m[\u001b[0m\u001b[0mtrain_op\u001b[0m\u001b[0;34m,\u001b[0m \u001b[0mloss\u001b[0m\u001b[0;34m]\u001b[0m\u001b[0;34m,\u001b[0m \u001b[0mfeed_dict\u001b[0m\u001b[0;34m=\u001b[0m\u001b[0mcombined_dict\u001b[0m\u001b[0;34m)\u001b[0m\u001b[0;34m\u001b[0m\u001b[0m\n\u001b[0m\u001b[1;32m     56\u001b[0m \u001b[0;34m\u001b[0m\u001b[0m\n\u001b[1;32m     57\u001b[0m         \u001b[0;32mif\u001b[0m\u001b[0;34m(\u001b[0m\u001b[0;34m(\u001b[0m\u001b[0mep\u001b[0m \u001b[0;34m+\u001b[0m \u001b[0;36m1\u001b[0m\u001b[0;34m)\u001b[0m \u001b[0;34m%\u001b[0m \u001b[0mcheckpoint_factor\u001b[0m \u001b[0;34m==\u001b[0m \u001b[0;36m0\u001b[0m\u001b[0;34m)\u001b[0m\u001b[0;34m:\u001b[0m\u001b[0;34m\u001b[0m\u001b[0m\n",
      "\u001b[0;32m/home/animesh/Programming/platforms/anaconda3/envs/snakes/lib/python2.7/site-packages/tensorflow/python/client/session.pyc\u001b[0m in \u001b[0;36mrun\u001b[0;34m(self, fetches, feed_dict, options, run_metadata)\u001b[0m\n\u001b[1;32m    893\u001b[0m     \u001b[0;32mtry\u001b[0m\u001b[0;34m:\u001b[0m\u001b[0;34m\u001b[0m\u001b[0m\n\u001b[1;32m    894\u001b[0m       result = self._run(None, fetches, feed_dict, options_ptr,\n\u001b[0;32m--> 895\u001b[0;31m                          run_metadata_ptr)\n\u001b[0m\u001b[1;32m    896\u001b[0m       \u001b[0;32mif\u001b[0m \u001b[0mrun_metadata\u001b[0m\u001b[0;34m:\u001b[0m\u001b[0;34m\u001b[0m\u001b[0m\n\u001b[1;32m    897\u001b[0m         \u001b[0mproto_data\u001b[0m \u001b[0;34m=\u001b[0m \u001b[0mtf_session\u001b[0m\u001b[0;34m.\u001b[0m\u001b[0mTF_GetBuffer\u001b[0m\u001b[0;34m(\u001b[0m\u001b[0mrun_metadata_ptr\u001b[0m\u001b[0;34m)\u001b[0m\u001b[0;34m\u001b[0m\u001b[0m\n",
      "\u001b[0;32m/home/animesh/Programming/platforms/anaconda3/envs/snakes/lib/python2.7/site-packages/tensorflow/python/client/session.pyc\u001b[0m in \u001b[0;36m_run\u001b[0;34m(self, handle, fetches, feed_dict, options, run_metadata)\u001b[0m\n\u001b[1;32m   1122\u001b[0m     \u001b[0;32mif\u001b[0m \u001b[0mfinal_fetches\u001b[0m \u001b[0;32mor\u001b[0m \u001b[0mfinal_targets\u001b[0m \u001b[0;32mor\u001b[0m \u001b[0;34m(\u001b[0m\u001b[0mhandle\u001b[0m \u001b[0;32mand\u001b[0m \u001b[0mfeed_dict_tensor\u001b[0m\u001b[0;34m)\u001b[0m\u001b[0;34m:\u001b[0m\u001b[0;34m\u001b[0m\u001b[0m\n\u001b[1;32m   1123\u001b[0m       results = self._do_run(handle, final_targets, final_fetches,\n\u001b[0;32m-> 1124\u001b[0;31m                              feed_dict_tensor, options, run_metadata)\n\u001b[0m\u001b[1;32m   1125\u001b[0m     \u001b[0;32melse\u001b[0m\u001b[0;34m:\u001b[0m\u001b[0;34m\u001b[0m\u001b[0m\n\u001b[1;32m   1126\u001b[0m       \u001b[0mresults\u001b[0m \u001b[0;34m=\u001b[0m \u001b[0;34m[\u001b[0m\u001b[0;34m]\u001b[0m\u001b[0;34m\u001b[0m\u001b[0m\n",
      "\u001b[0;32m/home/animesh/Programming/platforms/anaconda3/envs/snakes/lib/python2.7/site-packages/tensorflow/python/client/session.pyc\u001b[0m in \u001b[0;36m_do_run\u001b[0;34m(self, handle, target_list, fetch_list, feed_dict, options, run_metadata)\u001b[0m\n\u001b[1;32m   1319\u001b[0m     \u001b[0;32mif\u001b[0m \u001b[0mhandle\u001b[0m \u001b[0;32mis\u001b[0m \u001b[0mNone\u001b[0m\u001b[0;34m:\u001b[0m\u001b[0;34m\u001b[0m\u001b[0m\n\u001b[1;32m   1320\u001b[0m       return self._do_call(_run_fn, self._session, feeds, fetches, targets,\n\u001b[0;32m-> 1321\u001b[0;31m                            options, run_metadata)\n\u001b[0m\u001b[1;32m   1322\u001b[0m     \u001b[0;32melse\u001b[0m\u001b[0;34m:\u001b[0m\u001b[0;34m\u001b[0m\u001b[0m\n\u001b[1;32m   1323\u001b[0m       \u001b[0;32mreturn\u001b[0m \u001b[0mself\u001b[0m\u001b[0;34m.\u001b[0m\u001b[0m_do_call\u001b[0m\u001b[0;34m(\u001b[0m\u001b[0m_prun_fn\u001b[0m\u001b[0;34m,\u001b[0m \u001b[0mself\u001b[0m\u001b[0;34m.\u001b[0m\u001b[0m_session\u001b[0m\u001b[0;34m,\u001b[0m \u001b[0mhandle\u001b[0m\u001b[0;34m,\u001b[0m \u001b[0mfeeds\u001b[0m\u001b[0;34m,\u001b[0m \u001b[0mfetches\u001b[0m\u001b[0;34m)\u001b[0m\u001b[0;34m\u001b[0m\u001b[0m\n",
      "\u001b[0;32m/home/animesh/Programming/platforms/anaconda3/envs/snakes/lib/python2.7/site-packages/tensorflow/python/client/session.pyc\u001b[0m in \u001b[0;36m_do_call\u001b[0;34m(self, fn, *args)\u001b[0m\n\u001b[1;32m   1325\u001b[0m   \u001b[0;32mdef\u001b[0m \u001b[0m_do_call\u001b[0m\u001b[0;34m(\u001b[0m\u001b[0mself\u001b[0m\u001b[0;34m,\u001b[0m \u001b[0mfn\u001b[0m\u001b[0;34m,\u001b[0m \u001b[0;34m*\u001b[0m\u001b[0margs\u001b[0m\u001b[0;34m)\u001b[0m\u001b[0;34m:\u001b[0m\u001b[0;34m\u001b[0m\u001b[0m\n\u001b[1;32m   1326\u001b[0m     \u001b[0;32mtry\u001b[0m\u001b[0;34m:\u001b[0m\u001b[0;34m\u001b[0m\u001b[0m\n\u001b[0;32m-> 1327\u001b[0;31m       \u001b[0;32mreturn\u001b[0m \u001b[0mfn\u001b[0m\u001b[0;34m(\u001b[0m\u001b[0;34m*\u001b[0m\u001b[0margs\u001b[0m\u001b[0;34m)\u001b[0m\u001b[0;34m\u001b[0m\u001b[0m\n\u001b[0m\u001b[1;32m   1328\u001b[0m     \u001b[0;32mexcept\u001b[0m \u001b[0merrors\u001b[0m\u001b[0;34m.\u001b[0m\u001b[0mOpError\u001b[0m \u001b[0;32mas\u001b[0m \u001b[0me\u001b[0m\u001b[0;34m:\u001b[0m\u001b[0;34m\u001b[0m\u001b[0m\n\u001b[1;32m   1329\u001b[0m       \u001b[0mmessage\u001b[0m \u001b[0;34m=\u001b[0m \u001b[0mcompat\u001b[0m\u001b[0;34m.\u001b[0m\u001b[0mas_text\u001b[0m\u001b[0;34m(\u001b[0m\u001b[0me\u001b[0m\u001b[0;34m.\u001b[0m\u001b[0mmessage\u001b[0m\u001b[0;34m)\u001b[0m\u001b[0;34m\u001b[0m\u001b[0m\n",
      "\u001b[0;32m/home/animesh/Programming/platforms/anaconda3/envs/snakes/lib/python2.7/site-packages/tensorflow/python/client/session.pyc\u001b[0m in \u001b[0;36m_run_fn\u001b[0;34m(session, feed_dict, fetch_list, target_list, options, run_metadata)\u001b[0m\n\u001b[1;32m   1304\u001b[0m           return tf_session.TF_Run(session, options,\n\u001b[1;32m   1305\u001b[0m                                    \u001b[0mfeed_dict\u001b[0m\u001b[0;34m,\u001b[0m \u001b[0mfetch_list\u001b[0m\u001b[0;34m,\u001b[0m \u001b[0mtarget_list\u001b[0m\u001b[0;34m,\u001b[0m\u001b[0;34m\u001b[0m\u001b[0m\n\u001b[0;32m-> 1306\u001b[0;31m                                    status, run_metadata)\n\u001b[0m\u001b[1;32m   1307\u001b[0m \u001b[0;34m\u001b[0m\u001b[0m\n\u001b[1;32m   1308\u001b[0m     \u001b[0;32mdef\u001b[0m \u001b[0m_prun_fn\u001b[0m\u001b[0;34m(\u001b[0m\u001b[0msession\u001b[0m\u001b[0;34m,\u001b[0m \u001b[0mhandle\u001b[0m\u001b[0;34m,\u001b[0m \u001b[0mfeed_dict\u001b[0m\u001b[0;34m,\u001b[0m \u001b[0mfetch_list\u001b[0m\u001b[0;34m)\u001b[0m\u001b[0;34m:\u001b[0m\u001b[0;34m\u001b[0m\u001b[0m\n",
      "\u001b[0;31mKeyboardInterrupt\u001b[0m: "
     ]
    }
   ],
   "source": [
    "# time to run this session:\n",
    "'''\n",
    "code snippet to run a tensorflow session for performing the training.\n",
    "'''\n",
    "\n",
    "''' \n",
    "    WARNING WARNING WARNING!!! This is the main training cell. \n",
    "    This cell will take a really really long time on low-end machines. It will however not crash your pc, since \n",
    "    I have bootstrapped the training in such a way that it loads a small chunk of data at a time to train.\n",
    "'''\n",
    "\n",
    "with tf.Session(graph=graph) as sess:\n",
    "    # bring the global_index into current scope:\n",
    "    global global_index\n",
    "    \n",
    "    # The saver object for saving and loading the model\n",
    "    saver = tf.train.Saver(max_to_keep=2)\n",
    "    \n",
    "    # the path where the model will be saved \n",
    "    # let's visualize this graph in tensorboard:\n",
    "    model_path = os.path.join(base_model_path, model_name)\n",
    "    \n",
    "    # create the summary_writer for tensorboard\n",
    "    tensorboard_writer = tf.summary.FileWriter(model_path, graph=sess.graph)\n",
    "    \n",
    "    if(os.path.isfile(os.path.join(model_path, \"checkpoint\"))):\n",
    "        # load the weights from the model\n",
    "        # instead of global variable initializer, restore the graph:\n",
    "        saver.restore(sess, tf.train.latest_checkpoint(model_path))\n",
    "        \n",
    "    else:\n",
    "        \n",
    "        # initialize all the variables\n",
    "        sess.run(init)\n",
    "    \n",
    "    for ep in range((itera - 1) * no_of_epochs, itera * no_of_epochs):  # start the loop \n",
    "        \n",
    "        start = global_index\n",
    "        end = start + batch_size\n",
    "            \n",
    "        questions_raw = dquestions[start: end]\n",
    "        queries_raw = dqueries[start: end]\n",
    "            \n",
    "        input_questions_batch = list(np.array(questions_raw).reshape(len(questions_raw), seqs_length))\n",
    "        input_translate_batch = list(np.array(queries_raw).reshape(len(queries_raw), seqs_length))\n",
    "            \n",
    "        global_index = (global_index + batch_size) % data_size\n",
    "        \n",
    "        # construct the feed dictionary\n",
    "        ques_dict = {i: d for (i, d) in zip(input_data, input_questions_batch)}\n",
    "        quer_dict = {i: d for (i, d) in zip(input_translation, input_translate_batch)}\n",
    "        combined_dict = dict(ques_dict.items() + quer_dict.items())\n",
    "        \n",
    "        # execute the training op\n",
    "        _, cost = sess.run([train_op, loss], feed_dict=combined_dict)\n",
    "        \n",
    "        if((ep + 1) % checkpoint_factor == 0):\n",
    "            # print the log statements:\n",
    "            print \"epoch: \" + str(ep + 1)\n",
    "            print \"=================================================================================================\"\n",
    "            print \"=================================================================================================\"\n",
    "            print('loss = {}'.format(cost))\n",
    "            print \"\\n=========================================================================================\\n\"\n",
    "            print \"=================================================================================================\"\n",
    "            print \"=================================================================================================\"\n",
    "            \n",
    "            # run the summary op also\n",
    "            summary = sess.run(all_summaries, feed_dict=combined_dict)\n",
    "\n",
    "            # add the generated summary to the fileWriter\n",
    "            tensorboard_writer.add_summary(summary, (ep + 1))\n",
    "            \n",
    "            # save the model trained so far:\n",
    "            saver.save(sess, os.path.join(model_path, model_name), global_step = (ep + 1))"
   ]
  },
  {
   "cell_type": "code",
   "execution_count": 51,
   "metadata": {
    "collapsed": true
   },
   "outputs": [],
   "source": [
    "# create an interactive Session to run the model\n",
    "sess = tf.InteractiveSession(graph=graph)"
   ]
  },
  {
   "cell_type": "code",
   "execution_count": 52,
   "metadata": {
    "collapsed": true
   },
   "outputs": [],
   "source": [
    "# create a saver object\n",
    "saver = tf.train.Saver(max_to_keep = 2)"
   ]
  },
  {
   "cell_type": "code",
   "execution_count": 53,
   "metadata": {
    "collapsed": true
   },
   "outputs": [],
   "source": [
    "# synthesize the model_path\n",
    "model_path = os.path.join(base_model_path, model_name)"
   ]
  },
  {
   "cell_type": "code",
   "execution_count": 54,
   "metadata": {},
   "outputs": [
    {
     "name": "stdout",
     "output_type": "stream",
     "text": [
      "INFO:tensorflow:Restoring parameters from ../Models/Model3/Model3-5250\n"
     ]
    }
   ],
   "source": [
    "# restore the model\n",
    "if(os.path.isfile(os.path.join(model_path, \"checkpoint\"))):\n",
    "    # load the weights from the model\n",
    "    # instead of global variable initializer, restore the graph:\n",
    "    saver.restore(sess, tf.train.latest_checkpoint(model_path))\n",
    "    \n",
    "else:\n",
    "    print \"Something is wrong with the saved model! You will have to train the model again\""
   ]
  },
  {
   "cell_type": "code",
   "execution_count": 55,
   "metadata": {},
   "outputs": [
    {
     "data": {
      "text/plain": [
       "'Who is the President of India?'"
      ]
     },
     "execution_count": 55,
     "metadata": {},
     "output_type": "execute_result"
    }
   ],
   "source": [
    "# obtain the predictions for a sample question:\n",
    "question"
   ]
  },
  {
   "cell_type": "code",
   "execution_count": 64,
   "metadata": {},
   "outputs": [
    {
     "data": {
      "text/plain": [
       "array([1, 0, 0, 0, 0, 0, 0, 0, 0, 0, 0, 0, 0, 0, 0, 0, 0, 0, 0, 0, 0, 0, 0,\n",
       "       0, 0, 0, 0, 0, 0, 0, 0, 0, 0, 0, 0, 0, 0, 0, 0, 0, 0, 0, 0, 0, 0, 0,\n",
       "       0, 0, 0, 0, 0, 0, 0, 0, 0, 0, 0, 0, 0, 0, 0, 0, 0, 0, 0, 0, 0, 0, 0,\n",
       "       0, 0, 0, 0, 0, 0, 0, 0, 0, 0, 0, 0, 0, 0, 0, 0])"
      ]
     },
     "execution_count": 64,
     "metadata": {},
     "output_type": "execute_result"
    }
   ],
   "source": [
    "sess.run(prediction, feed_dict={input_data[0]: encode(question), \n",
    "                                input_translation[0]: generate_mock_decoder_input_sequence()})"
   ]
  },
  {
   "cell_type": "code",
   "execution_count": null,
   "metadata": {
    "collapsed": true
   },
   "outputs": [],
   "source": []
  }
 ],
 "metadata": {
  "kernelspec": {
   "display_name": "Python 2",
   "language": "python",
   "name": "python2"
  },
  "language_info": {
   "codemirror_mode": {
    "name": "ipython",
    "version": 2
   },
   "file_extension": ".py",
   "mimetype": "text/x-python",
   "name": "python",
   "nbconvert_exporter": "python",
   "pygments_lexer": "ipython2",
   "version": "2.7.13"
  }
 },
 "nbformat": 4,
 "nbformat_minor": 2
}
